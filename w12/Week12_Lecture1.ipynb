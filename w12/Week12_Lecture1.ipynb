{
 "cells": [
  {
   "cell_type": "markdown",
   "id": "645b225d",
   "metadata": {
    "tags": [
     "include"
    ]
   },
   "source": [
    "# POLSCI 3\n",
    "\n",
    "## Week 12, Lecture 1: Reading Regression Tables of Experimental Results\n"
   ]
  },
  {
   "cell_type": "markdown",
   "id": "618d780e",
   "metadata": {},
   "source": [
    "We're done learning new coding!\n",
    "\n",
    "You now know how to do a lot:\n",
    "\n",
    "- make and create two-way tables\n",
    "- understand why observational data typically can't determine causality\n",
    "- understand why experiments allow us to determine causality\n",
    "- calculate an estimate, standard error, $p$-value, and confidence interval and interpret them\n",
    "    - in an experiment\n",
    "    - in a descriptive study\n",
    "- estimate treatment effects among different subsets\n",
    "- think about how experimental results might generalize to new samples\n",
    "- understand how we can draw random samples from populations to make inferences about populations\n",
    "- visualize data to understand relationships between variables\n",
    "- run bivariate regressions to calculate a line of best fit\n",
    "- run multivariate regressions to understand relationships between multiple variables and an outcome\n",
    "- run multivariate regressions to analyze experiments and interpret them\n",
    "\n",
    "In some situations in other classes and in life, you'll actually be running the code to get numbers from R and interpret them. But far more often, _other people_ will show you the output of a statistical procedure that they ran. And when they do this:\n",
    "- they usually use regression; regression is by far the most common tool for analyzing data in political science (it is so flexible and can be used for experimental and non-experimental data)\n",
    "- they usually don't just give you a screenshot of their R (or other statistical software) output; they format the output more nicely in a Table called a **regression table**\n",
    "\n",
    "This week, we're going to see what **regression tables** look like and learn how to read them. Today we'll use one example from an observational study (our Week 11 dataset) and one example from an experimental study. There aren't really major differences between how the Tables are presented in each, I just think it's good to go through multiple examples.\n",
    "\n",
    "Once you learn how to read a regression table, you're going to see them _all the time_ in your other classes!"
   ]
  },
  {
   "cell_type": "markdown",
   "id": "ba62a66a",
   "metadata": {},
   "source": [
    "### Reading regression tables\n",
    "\n",
    "Let's start with some regressions we saw last week and see how they'd look as a regression tables.\n",
    "\n",
    "Here's screenshots of some regressions we made last week, predicting Democratic vote share in US House elections:\n",
    "\n",
    "<img src=\"week11_l1_lm.png\" width=\"50%\">\n",
    "\n",
    "-----\n",
    "\n",
    "<img src=\"week11_a1_lm.png\" width=\"50%\">\n",
    "\n",
    "As a **regression table** in a paper, they would look like this:\n",
    "\n",
    "<img src=\"week11_both_nice_table.png\" width=\"60%\">"
   ]
  },
  {
   "cell_type": "markdown",
   "id": "e57f21f7",
   "metadata": {},
   "source": [
    "There's a few things about this table that are common across almost all regression tables:\n",
    "- Each **column** reports the results of one regression. Multiple columns means we are looking at the results of multiple different regressions (in this example, two). The **column titles** should tell you what is different about the regressions.\n",
    "    - Sometimes this will be switching subsets of data (as in this example).\n",
    "    - Sometimes it will involve switching _outcomes_.\n",
    "    - Sometimes the outcome and subset will be the same, but new variables will be introduced into the regression.\n",
    "    - You have to use context and the table notes to be sure what is changing across the columns.\n",
    "- Each **row** represents the coefficients/estimates on one of the variables in the regression.\n",
    "    - The **first column** shows the variable that is being estimated.\n",
    "    - The **last row** of estimates contains the Intercept or Constant term (these are synonymous).\n",
    "- In each **cell**, the first number is the coefficient, and the number in brackets below it is the standard error. These are the only numbers we need to calculate a t-statistic, confidence interval, and $p$-value.\n",
    "- The **stars** next to each number indicate if the estimates are statistically significant and, if so, how small the $p$-value is. (The **Table Notes** along the bottom will tell you how to interpret the stars.)\n",
    "- **Missing cells** mean that this variable was not included in this regression. Sometimes it will just be blank, sometimes there will be a \"-\" to indicate it is being left blank on purpose.\n",
    "- The **sample size** ($N$) and a statistic called $R^2$ are printed at the bottom of each column.\n",
    "    - (I'm not focusing on the $R^2$ statistic in this class much; see the end of the last lecture on correlation if you're interested in this. It measures how much of the variation in the outcome the left-hand-side variables can predict. Social scientists are rarely intersted in this.)\n",
    "- There is a title that should help you interpret anything else about the table you need to know. (In practice, how helpful these notes are vary.)\n",
    "- There are notes at the bottom that help you interpret anything else about the table you need to know. (In practice, how helpful these notes are vary.)"
   ]
  },
  {
   "cell_type": "markdown",
   "id": "3704b066",
   "metadata": {},
   "source": [
    "### Example: An experiment on motivating hairdressers to distribute condoms in Africa\n",
    "\n",
    "Now let's look at an example from a real study.\n",
    "\n",
    "HIV is a huge problem in Africa, and governments and non-profits have tried to promote condom use to limit the spread of HIV.\n",
    "\n",
    "In their paper \"No margin, no mission? A field experiment on incentives for public service delivery,\" <a href=\"https://doi-org.libproxy.berkeley.edu/10.1016/j.jpubeco.2014.06.014\">Ashraf et al. (2014)</a> describe the results of a collaboration with a non-proft that recuited hairdressers and barbers to provide information about HIV prevention and sell condoms in their shops.\n",
    "\n",
    "In this week's lecture and activity notebook, we will examine Tables from this paper to understand its results. This is way easier than downloading the data and analyzing it ourselves, but still takes a bit of work.\n",
    "\n",
    "#### Experimental Design\n",
    "\n",
    "There are four groups in the experiment:\n",
    "\n",
    "- control group\n",
    "- large financial reward\n",
    "- small financial reward\n",
    "- non-financial reward (\"star reward\")\n",
    "\n",
    "Here's the paper's description of the groups in the experiment:\n",
    "\n",
    "> Agents in the control group receive no rewards, while agents in the three treatment groups receive financial margins at the bottom and the top of the feasible range, and non-financial rewards, respectively. The smaller and larger financial-margin treatments pay a 10% and 90% margin on each condom sale, respectively, whereas the non-financial scheme (“star” treatment) gives agents a “thermometer” display, showing condom sales and stamps, with one star stamp for each sale.\n",
    "\n",
    "####  Table 3\n",
    "\n",
    "![](AshrafTable3.png)"
   ]
  },
  {
   "cell_type": "markdown",
   "id": "9e37fb6c",
   "metadata": {},
   "source": [
    "#### Reading this Table\n",
    "\n",
    "- The title tells us that we are looking at effects on measures of effort.\n",
    "- If there is a control group in the experiment, it is usually the omitted category in a regression. That appears to be the case here, as the other groups all show up in the regression but the control group doesn't. So, we can interpret the results as effects relative to the control group.\n",
    "- As usual in regression tables, each column in the Table below reports a separate regression. What do the columns mean? In this case, we can see that each column has a different outcome measure, also known as \"dependent variable\".\n",
    "    - Let's focus on the first column as an example. We can see that the outcome for the first column is \"Total displays\", which the Table note helpfully tells us is the number of visible posters, brochures, \"sold here\" signs, flipcharts, condom dispensers, and certificates visible in the shot. This means the first column reports the results of running a regression where \"total displays\" is the outcome.\n",
    "- Each of the rows in the main body of the table show you coefficients and, below, standard errors.\n",
    "- The stars next to the coefficients tell us whether the results are statistically significant and at what level.\n",
    "- What is \"Controls: Yes\"? You sometimes see this: instead of printing all the control variables (since we're not really interested in them and they don't have a causal interpretation -- they are just for precision), in experiments, we save space by just noting controls are included. Elsewhere in the article it says what the controls are. Remember: when analyzing experiments with regression, we don't care about what the coefficients on the control variables are, we just sometimes include them in case they might help increase the precision of our estimates."
   ]
  }
 ],
 "metadata": {
  "kernelspec": {
   "display_name": "R",
   "language": "R",
   "name": "ir"
  },
  "language_info": {
   "codemirror_mode": "r",
   "file_extension": ".r",
   "mimetype": "text/x-r-source",
   "name": "R",
   "pygments_lexer": "r",
   "version": "4.1.2"
  },
  "latex_envs": {
   "LaTeX_envs_menu_present": true,
   "autoclose": false,
   "autocomplete": true,
   "bibliofile": "biblio.bib",
   "cite_by": "apalike",
   "current_citInitial": 1,
   "eqLabelWithNumbers": true,
   "eqNumInitial": 1,
   "hotkeys": {
    "equation": "Ctrl-E",
    "itemize": "Ctrl-I"
   },
   "labels_anchors": false,
   "latex_user_defs": false,
   "report_style_numbering": false,
   "user_envs_cfg": false
  }
 },
 "nbformat": 4,
 "nbformat_minor": 5
}
