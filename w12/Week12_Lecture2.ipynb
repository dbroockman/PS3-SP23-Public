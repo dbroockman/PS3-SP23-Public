{
 "cells": [
  {
   "cell_type": "markdown",
   "id": "645b225d",
   "metadata": {
    "tags": [
     "include"
    ]
   },
   "source": [
    "# POLSCI 3\n",
    "\n",
    "## Week 12, Lecture 2: Reading Regression Tables of Observational Studies\n"
   ]
  },
  {
   "cell_type": "markdown",
   "id": "3704b066",
   "metadata": {},
   "source": [
    "Reading regression tables in such an important skill, we are going to spend another day on it in the context of a whole new example.\n",
    "\n",
    "### Example: How Reporting Resources Affect Political News Coverage?\n",
    "\n",
    "Paper is dead, or so people say. One important consequence of the decline of print media is the associated decline in overall number of newspaper reporters in the United States. In [Peterson (2021)](https://onlinelibrary-wiley-com.libproxy.berkeley.edu/doi/epdf/10.1111/ajps.12560)'s article, the author explores the effects of cuts to newspaper staff on political news coverage.\n",
    "\n",
    "We'll be looking at Table 1. Here's what the paper says about Table 1:\n",
    "\n",
    "> I assess the relationship between a newspaper’s staffing and the amount of political coverage it produces. Table 1 reports the results of regressions using several operationalizations [this means measures] of both coverage and staffing. The first column displays results for the 1994–2014 newspaper sample in NewsBank (n = 70 newspapers) and uses the reporting measure from the ASNE census. The second column does so for the broader sample of 192 newspapers available using these same sourcesof coverage and staffing data for 2000–2014.\n",
    "\n",
    "To measure the *outcome* or left-hand-side variable, **political news coverage**, the author used two sources: one from **Newsbank** and one from **Proquest**. They are measuring the same outcome, which is the **number of political news stories** in a newspaper over a year. The two sources of data differ slightly in terms of the time period they cover and in measurement, but they are measuring the same thing.\n",
    "\n",
    "To measure the key explanatory or right-hand-side variable, **the number and role of reporters** in a newspaper over a particular year, the author also used two sources: **ASNE** (American Society of News Editors) census and **Newspaper Directories**. For the lecture, we will focus on the **number** of reporters for now.\n",
    "\n",
    "Every row in the dataset where this regression was run represents one newspaper in one year."
   ]
  },
  {
   "cell_type": "markdown",
   "id": "9e37fb6c",
   "metadata": {},
   "source": [
    "#### Reading this Table\n",
    "\n",
    "![Table 1](PetersonTable1.png)"
   ]
  },
  {
   "cell_type": "markdown",
   "id": "522b80e0",
   "metadata": {},
   "source": [
    "Let's walk through interpreting this together:\n",
    "- The coefficient shows us the expected change in the outcome for a one unit change in the right hand side variable _holding the other variables in the regression constnat_. In this case, the outcome is political coverage -- and in particular, the number of news stories the newspaper publishes in a year. The right hand side variable is the number of reporters at that newspaper. So, Column 1 tells us that, if a newspaper has one more reporter than another, we expect it to produce another 40.2 stories.\n",
    "- The number below is the standard error, 14.7. This is a measure of how much noise there is in the estimate. So, if we wanted to estimate a confidence interval, it would run from 40.2 - 1.96 * 14.7 to 40.2 + 1.96 * 14.7, which is 11.4 to 69.0.\n",
    "- The $N$ row tells us that there are 1,470 unique newspaper-year observations in this dataset.\n",
    "- The Coverage source row tells us where the coverage data is from.\n",
    "- The Staffing source row tells us where the staffing data is from.\n",
    "- Why look at all multiple data sources? It convinces us the results are more robust.\n",
    "- When moving from Column 1 to Column 2, why does the $N$ go up even though the number of years is going down? Ah, above, the text told us:\n",
    " > The first column displays results for the 1994–2014 newspaper sample in NewsBank (n = 70 newspapers) and uses the reporting measure from the ASNE census. The second column does so for the broader sample of 192 newspapers available using these same sourcesof coverage and staffing data for 2000–2014.\n",
    "- The Table Notes tell us that the regressions also include a control for each indivdual newspaper, year, and news market. This is what a \"fixed effect\" is: there is a separate control variable for every single category (e.g., for 1999, for 2000; or, for Paper A, then Paper B, etc.).\n",
    "- The \"Reporters\" variable is not randomly assigned! Therefore, there is a possibility of omitted variable bias. E.g., what causes newspapers to hire reporters and write political stories? Probably having bigger budgets, more subscribers, etc.!"
   ]
  },
  {
   "cell_type": "markdown",
   "id": "fa4da254",
   "metadata": {},
   "source": [
    "In class, we'll look at another Table from this paper."
   ]
  }
 ],
 "metadata": {
  "kernelspec": {
   "display_name": "R",
   "language": "R",
   "name": "ir"
  },
  "language_info": {
   "codemirror_mode": "r",
   "file_extension": ".r",
   "mimetype": "text/x-r-source",
   "name": "R",
   "pygments_lexer": "r",
   "version": "4.1.2"
  },
  "latex_envs": {
   "LaTeX_envs_menu_present": true,
   "autoclose": false,
   "autocomplete": true,
   "bibliofile": "biblio.bib",
   "cite_by": "apalike",
   "current_citInitial": 1,
   "eqLabelWithNumbers": true,
   "eqNumInitial": 1,
   "hotkeys": {
    "equation": "Ctrl-E",
    "itemize": "Ctrl-I"
   },
   "labels_anchors": false,
   "latex_user_defs": false,
   "report_style_numbering": false,
   "user_envs_cfg": false
  }
 },
 "nbformat": 4,
 "nbformat_minor": 5
}
