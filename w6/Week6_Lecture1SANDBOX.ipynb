{
 "cells": [
  {
   "cell_type": "code",
   "execution_count": 1,
   "metadata": {
    "scrolled": false
   },
   "outputs": [
    {
     "data": {
      "text/html": [
       "<table>\n",
       "<caption>A data.frame: 6 × 5</caption>\n",
       "<thead>\n",
       "\t<tr><th></th><th scope=col>caseid</th><th scope=col>supportgroup</th><th scope=col>treat</th><th scope=col>ally</th><th scope=col>female</th></tr>\n",
       "\t<tr><th></th><th scope=col>&lt;int&gt;</th><th scope=col>&lt;int&gt;</th><th scope=col>&lt;chr&gt;</th><th scope=col>&lt;dbl&gt;</th><th scope=col>&lt;int&gt;</th></tr>\n",
       "</thead>\n",
       "<tbody>\n",
       "\t<tr><th scope=row>1</th><td> 36</td><td>0</td><td>control</td><td>0.3333333</td><td>0</td></tr>\n",
       "\t<tr><th scope=row>2</th><td> 64</td><td>0</td><td>control</td><td>0.3333333</td><td>0</td></tr>\n",
       "\t<tr><th scope=row>3</th><td> 56</td><td>0</td><td>control</td><td>0.3333333</td><td>0</td></tr>\n",
       "\t<tr><th scope=row>4</th><td> 96</td><td>0</td><td>control</td><td>0.0000000</td><td>0</td></tr>\n",
       "\t<tr><th scope=row>5</th><td>101</td><td>0</td><td>control</td><td>0.0000000</td><td>0</td></tr>\n",
       "\t<tr><th scope=row>6</th><td> 82</td><td>0</td><td>control</td><td>0.0000000</td><td>1</td></tr>\n",
       "</tbody>\n",
       "</table>\n"
      ],
      "text/latex": [
       "A data.frame: 6 × 5\n",
       "\\begin{tabular}{r|lllll}\n",
       "  & caseid & supportgroup & treat & ally & female\\\\\n",
       "  & <int> & <int> & <chr> & <dbl> & <int>\\\\\n",
       "\\hline\n",
       "\t1 &  36 & 0 & control & 0.3333333 & 0\\\\\n",
       "\t2 &  64 & 0 & control & 0.3333333 & 0\\\\\n",
       "\t3 &  56 & 0 & control & 0.3333333 & 0\\\\\n",
       "\t4 &  96 & 0 & control & 0.0000000 & 0\\\\\n",
       "\t5 & 101 & 0 & control & 0.0000000 & 0\\\\\n",
       "\t6 &  82 & 0 & control & 0.0000000 & 1\\\\\n",
       "\\end{tabular}\n"
      ],
      "text/markdown": [
       "\n",
       "A data.frame: 6 × 5\n",
       "\n",
       "| <!--/--> | caseid &lt;int&gt; | supportgroup &lt;int&gt; | treat &lt;chr&gt; | ally &lt;dbl&gt; | female &lt;int&gt; |\n",
       "|---|---|---|---|---|---|\n",
       "| 1 |  36 | 0 | control | 0.3333333 | 0 |\n",
       "| 2 |  64 | 0 | control | 0.3333333 | 0 |\n",
       "| 3 |  56 | 0 | control | 0.3333333 | 0 |\n",
       "| 4 |  96 | 0 | control | 0.0000000 | 0 |\n",
       "| 5 | 101 | 0 | control | 0.0000000 | 0 |\n",
       "| 6 |  82 | 0 | control | 0.0000000 | 1 |\n",
       "\n"
      ],
      "text/plain": [
       "  caseid supportgroup treat   ally      female\n",
       "1  36    0            control 0.3333333 0     \n",
       "2  64    0            control 0.3333333 0     \n",
       "3  56    0            control 0.3333333 0     \n",
       "4  96    0            control 0.0000000 0     \n",
       "5 101    0            control 0.0000000 0     \n",
       "6  82    0            control 0.0000000 1     "
      ]
     },
     "metadata": {},
     "output_type": "display_data"
    }
   ],
   "source": [
    "data <- read.csv('ps3_lobbying.csv')\n",
    "head(data)"
   ]
  },
  {
   "cell_type": "markdown",
   "metadata": {},
   "source": [
    "Here is a quick reminder of what each column means:\n",
    "\n",
    "- `caseid`: Number that identifies each legislator/district\n",
    "- `supportgroup`: This is the *outcome*. It is a measure of whether the legislator agreed to list their name publicly as a \"sponsor\" of the bill.\n",
    "- `treat`: This is the *treatment*. It has several possible values:\n",
    "    - `\"control\"`: the office received no contact from the lobbyist\n",
    "    - `\"officelobby\"`: the legislator was asked to meet to discuss the bill in their office\n",
    "    - `\"sociallobby\"`: the legislator was asked to meet to discuss the bill at a social location (a restaurant or bar)\n",
    "- `ally`: The authors thought that social lobbying might be especially effective among legislators who had supported the group's priorities in the past. To measure this, they asked the lobbyist: \"In your opinion, how well does the phrase ‘ally of the interest group’ describe the legislator?\" This is therefore the lobbyists' rating of whether the legislator is an ally of the interest group (values 0, 1/3, 2/3, and 1).\n",
    "- `female` : legislator gender, 1 = legislator is female; 0 = not\n",
    "\n",
    "Again, here is what `treat` looks like:"
   ]
  },
  {
   "cell_type": "code",
   "execution_count": null,
   "metadata": {},
   "outputs": [],
   "source": [
    "# Write your code here"
   ]
  },
  {
   "cell_type": "code",
   "execution_count": null,
   "metadata": {},
   "outputs": [],
   "source": [
    "# Write your code here"
   ]
  },
  {
   "cell_type": "code",
   "execution_count": null,
   "metadata": {},
   "outputs": [],
   "source": [
    "# Write your code here"
   ]
  },
  {
   "cell_type": "code",
   "execution_count": null,
   "metadata": {},
   "outputs": [],
   "source": [
    "# Write your code here"
   ]
  },
  {
   "cell_type": "code",
   "execution_count": null,
   "metadata": {},
   "outputs": [],
   "source": [
    "# Write your code here"
   ]
  },
  {
   "cell_type": "code",
   "execution_count": null,
   "metadata": {},
   "outputs": [],
   "source": [
    "# Write your code here"
   ]
  },
  {
   "cell_type": "code",
   "execution_count": null,
   "metadata": {},
   "outputs": [],
   "source": [
    "# Write your code here"
   ]
  },
  {
   "cell_type": "code",
   "execution_count": null,
   "metadata": {},
   "outputs": [],
   "source": [
    "# Write your code here"
   ]
  },
  {
   "cell_type": "code",
   "execution_count": null,
   "metadata": {},
   "outputs": [],
   "source": [
    "# Write your code here"
   ]
  }
 ],
 "metadata": {
  "kernelspec": {
   "display_name": "R",
   "language": "R",
   "name": "ir"
  },
  "language_info": {
   "codemirror_mode": "r",
   "file_extension": ".r",
   "mimetype": "text/x-r-source",
   "name": "R",
   "pygments_lexer": "r",
   "version": "4.0.2"
  },
  "latex_envs": {
   "LaTeX_envs_menu_present": true,
   "autoclose": false,
   "autocomplete": true,
   "bibliofile": "biblio.bib",
   "cite_by": "apalike",
   "current_citInitial": 1,
   "eqLabelWithNumbers": true,
   "eqNumInitial": 1,
   "hotkeys": {
    "equation": "Ctrl-E",
    "itemize": "Ctrl-I"
   },
   "labels_anchors": false,
   "latex_user_defs": false,
   "report_style_numbering": false,
   "user_envs_cfg": false
  }
 },
 "nbformat": 4,
 "nbformat_minor": 2
}
