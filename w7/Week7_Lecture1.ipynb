{
 "cells": [
  {
   "cell_type": "markdown",
   "metadata": {},
   "source": [
    "# POLI SCI 3\n",
    "\n",
    "# Week 7, Lecture Notebook 1: *p*-values in Experiments\n",
    "\n",
    "In this lecture, we're going to bring together the ideas from Week 6: the idea of noise in experiments and the idea of $p$-values.\n",
    "\n",
    "Here's how. In brief:\n",
    "- In experiments, the null hypothesis is almost always that the treatment has no effect relative to the baseline (so, no has no effect relative to control; or, is equally effective to another treatment).\n",
    "- When we do experiments, we usually want to show that the null hypothesis is wrong (i.e., that skeptics who think the treatment didn't have an effect are wrong).\n",
    "- When we analyze an experiment, we reach an estimate of what the true treatment effect is.\n",
    "- When we analyze an experiment, we calculate a standard error, which gives us a measure of how likely we would see different estimates by chance if there were no effect.\n",
    "\n",
    "Putting these ideas together, the way we show that treatments probably had an effect is an experiment is:\n",
    "- Comparing the actual estimate from the experiment to what might have occurred by chance if the null hypothesis were true.\n",
    "\n",
    "In today's notebook, I'll show you an example of this using the social lobbying data we started looking at last week."
   ]
  },
  {
   "cell_type": "markdown",
   "metadata": {},
   "source": [
    "## Data\n",
    "\n",
    "Again, let's use the dataset from the social lobbying experiment."
   ]
  },
  {
   "cell_type": "code",
   "execution_count": 1,
   "metadata": {
    "scrolled": true
   },
   "outputs": [
    {
     "data": {
      "text/html": [
       "<table class=\"dataframe\">\n",
       "<caption>A data.frame: 6 × 5</caption>\n",
       "<thead>\n",
       "\t<tr><th></th><th scope=col>caseid</th><th scope=col>supportgroup</th><th scope=col>treat</th><th scope=col>ally</th><th scope=col>female</th></tr>\n",
       "\t<tr><th></th><th scope=col>&lt;int&gt;</th><th scope=col>&lt;int&gt;</th><th scope=col>&lt;chr&gt;</th><th scope=col>&lt;dbl&gt;</th><th scope=col>&lt;int&gt;</th></tr>\n",
       "</thead>\n",
       "<tbody>\n",
       "\t<tr><th scope=row>1</th><td> 36</td><td>0</td><td>control</td><td>0.3333333</td><td>0</td></tr>\n",
       "\t<tr><th scope=row>2</th><td> 64</td><td>0</td><td>control</td><td>0.3333333</td><td>0</td></tr>\n",
       "\t<tr><th scope=row>3</th><td> 56</td><td>0</td><td>control</td><td>0.3333333</td><td>0</td></tr>\n",
       "\t<tr><th scope=row>4</th><td> 96</td><td>0</td><td>control</td><td>0.0000000</td><td>0</td></tr>\n",
       "\t<tr><th scope=row>5</th><td>101</td><td>0</td><td>control</td><td>0.0000000</td><td>0</td></tr>\n",
       "\t<tr><th scope=row>6</th><td> 82</td><td>0</td><td>control</td><td>0.0000000</td><td>1</td></tr>\n",
       "</tbody>\n",
       "</table>\n"
      ],
      "text/latex": [
       "A data.frame: 6 × 5\n",
       "\\begin{tabular}{r|lllll}\n",
       "  & caseid & supportgroup & treat & ally & female\\\\\n",
       "  & <int> & <int> & <chr> & <dbl> & <int>\\\\\n",
       "\\hline\n",
       "\t1 &  36 & 0 & control & 0.3333333 & 0\\\\\n",
       "\t2 &  64 & 0 & control & 0.3333333 & 0\\\\\n",
       "\t3 &  56 & 0 & control & 0.3333333 & 0\\\\\n",
       "\t4 &  96 & 0 & control & 0.0000000 & 0\\\\\n",
       "\t5 & 101 & 0 & control & 0.0000000 & 0\\\\\n",
       "\t6 &  82 & 0 & control & 0.0000000 & 1\\\\\n",
       "\\end{tabular}\n"
      ],
      "text/markdown": [
       "\n",
       "A data.frame: 6 × 5\n",
       "\n",
       "| <!--/--> | caseid &lt;int&gt; | supportgroup &lt;int&gt; | treat &lt;chr&gt; | ally &lt;dbl&gt; | female &lt;int&gt; |\n",
       "|---|---|---|---|---|---|\n",
       "| 1 |  36 | 0 | control | 0.3333333 | 0 |\n",
       "| 2 |  64 | 0 | control | 0.3333333 | 0 |\n",
       "| 3 |  56 | 0 | control | 0.3333333 | 0 |\n",
       "| 4 |  96 | 0 | control | 0.0000000 | 0 |\n",
       "| 5 | 101 | 0 | control | 0.0000000 | 0 |\n",
       "| 6 |  82 | 0 | control | 0.0000000 | 1 |\n",
       "\n"
      ],
      "text/plain": [
       "  caseid supportgroup treat   ally      female\n",
       "1  36    0            control 0.3333333 0     \n",
       "2  64    0            control 0.3333333 0     \n",
       "3  56    0            control 0.3333333 0     \n",
       "4  96    0            control 0.0000000 0     \n",
       "5 101    0            control 0.0000000 0     \n",
       "6  82    0            control 0.0000000 1     "
      ]
     },
     "metadata": {},
     "output_type": "display_data"
    }
   ],
   "source": [
    "library(estimatr)\n",
    "\n",
    "data <- read.csv('ps3_lobbying.csv')\n",
    "head(data)"
   ]
  },
  {
   "cell_type": "markdown",
   "metadata": {},
   "source": [
    "Here is a quick reminder of what each column means:\n",
    "\n",
    "- `caseid`: Number that identifies each legislator/district\n",
    "- `supportgroup`: This is the *outcome*. It is a measure of whether the legislator agreed to list their name publicly as a \"sponsor\" of the bill.\n",
    "- `treat`: This is the *treatment*. It has several possible values:\n",
    "    - `\"control\"`: the office received no contact from the lobbyist\n",
    "    - `\"officelobby\"`: the legislator was asked to meet to discuss the bill in their office\n",
    "    - `\"sociallobby\"`: the legislator was asked to meet to discuss the bill at a social location (a restaurant or bar)\n",
    "- `ally`: The authors thought that social lobbying might be especially effective among legislators who had supported the group's priorities in the past. To measure this, they asked the lobbyist: \"In your opinion, how well does the phrase ‘ally of the interest group’ describe the legislator?\" This is therefore the lobbyists' rating of whether the legislator is an ally of the interest group (values 0, 1/3, 2/3, and 1).\n",
    "- `female` : legislator gender, 1 = legislator is female; 0 = not\n",
    "\n",
    "Again, here is what `treat` looks like:"
   ]
  },
  {
   "cell_type": "code",
   "execution_count": 2,
   "metadata": {
    "scrolled": false
   },
   "outputs": [
    {
     "data": {
      "text/plain": [
       "\n",
       "    control officelobby sociallobby \n",
       "         38          40          41 "
      ]
     },
     "metadata": {},
     "output_type": "display_data"
    }
   ],
   "source": [
    "table(data$treat)"
   ]
  },
  {
   "cell_type": "markdown",
   "metadata": {},
   "source": [
    "And here was our estimate of the effect of social lobbying:"
   ]
  },
  {
   "cell_type": "code",
   "execution_count": 3,
   "metadata": {},
   "outputs": [
    {
     "data": {
      "text/plain": [
       "Design:  Standard \n",
       "                  Estimate Std. Error  t value  Pr(>|t|)    CI Lower  CI Upper\n",
       "treatsociallobby 0.1161746 0.07675608 1.513555 0.1345858 -0.03687757 0.2692267\n",
       "                       DF\n",
       "treatsociallobby 70.86971"
      ]
     },
     "metadata": {},
     "output_type": "display_data"
    }
   ],
   "source": [
    "difference_in_means(supportgroup ~ treat, data, condition1 = 'control', condition2 = 'sociallobby')"
   ]
  },
  {
   "cell_type": "markdown",
   "metadata": {},
   "source": [
    "## What would skeptical Sarah say?\n",
    "\n",
    "As I mentioned last week, $p$-values start by imagining a skeptic. Let's call her Sarah.\n",
    "\n",
    "Whenever we analyze an experiment, we imagine a skeptic who thinks the treatment we are analyzing the effects of had no effect. That's the null hypothesis in an experiment: the treatment had no effect. We want to show the skeptic that they're wrong.\n",
    "\n",
    "For example, returning to the social lobbying example, Sarah thinks that social lobbying doesn't work. She sees the fact that we estimated a 0.116 effect. But she reminds us: \"In experiments, we can see positive estimates even if the true average treatment effect is zero! You might have just randomly put the legislators who supported the bill anyway into the social lobbying group!\"\n",
    "\n",
    "But, *how likely is it* that we would have seen an estimate *this* large if Sarah were right (i.e., that the null hypothesis we're trying to disprove were right)? This is what a *p*-value tells us."
   ]
  },
  {
   "cell_type": "markdown",
   "metadata": {},
   "source": [
    "### Let's put ourselves in Sarah's shoes\n",
    "\n",
    "To answer our skeptic Sarah, we put ourselves in her shoes and approach the data as if she were right.\n",
    "\n",
    "Sarah thinks all the potential outcomes in this study are equal for a given person: whether a legislator is assigned to office lobbying, the control group, or social lobbying, their outcome would be the same. She thinks the only reason we're seeing the social lobbying group be more supportive of the bill is that we \"got lucky\": we happened to put the people more supportive of the bill in the social lobbying group by random chance. After all, we were randomizing! We call what Sarah thinks **the null hypothesis**.\n",
    "\n",
    "The way we're going to answer Sarah is by first *assuming she is right* -- that is, that the treatment has no effect -- and then *seeing how likely it is we'd get the estimate we did if she were right*.\n",
    "\n",
    "In Sarah's world, we can just take our data, re-randomize or \"shuffle\" it, and see how big the estimate is. Sarah expects to say: \"see, told you so, you often get estimates just as big!\"\n",
    "\n",
    "To do this, I'll start by doing what I did in lecture earlier this week again. Again, **you don't need to be able to code this yourself, but I do want you to understand what I'm doing.**"
   ]
  },
  {
   "cell_type": "code",
   "execution_count": 11,
   "metadata": {},
   "outputs": [
    {
     "data": {
      "text/html": [
       "<table class=\"dataframe\">\n",
       "<caption>A data.frame: 6 × 5</caption>\n",
       "<thead>\n",
       "\t<tr><th></th><th scope=col>caseid</th><th scope=col>supportgroup</th><th scope=col>treat</th><th scope=col>ally</th><th scope=col>female</th></tr>\n",
       "\t<tr><th></th><th scope=col>&lt;int&gt;</th><th scope=col>&lt;int&gt;</th><th scope=col>&lt;chr&gt;</th><th scope=col>&lt;dbl&gt;</th><th scope=col>&lt;int&gt;</th></tr>\n",
       "</thead>\n",
       "<tbody>\n",
       "\t<tr><th scope=row>1</th><td> 36</td><td>0</td><td>control    </td><td>0.3333333</td><td>0</td></tr>\n",
       "\t<tr><th scope=row>2</th><td> 64</td><td>0</td><td>officelobby</td><td>0.3333333</td><td>0</td></tr>\n",
       "\t<tr><th scope=row>3</th><td> 56</td><td>0</td><td>sociallobby</td><td>0.3333333</td><td>0</td></tr>\n",
       "\t<tr><th scope=row>4</th><td> 96</td><td>0</td><td>control    </td><td>0.0000000</td><td>0</td></tr>\n",
       "\t<tr><th scope=row>5</th><td>101</td><td>0</td><td>officelobby</td><td>0.0000000</td><td>0</td></tr>\n",
       "\t<tr><th scope=row>6</th><td> 82</td><td>0</td><td>sociallobby</td><td>0.0000000</td><td>1</td></tr>\n",
       "</tbody>\n",
       "</table>\n"
      ],
      "text/latex": [
       "A data.frame: 6 × 5\n",
       "\\begin{tabular}{r|lllll}\n",
       "  & caseid & supportgroup & treat & ally & female\\\\\n",
       "  & <int> & <int> & <chr> & <dbl> & <int>\\\\\n",
       "\\hline\n",
       "\t1 &  36 & 0 & control     & 0.3333333 & 0\\\\\n",
       "\t2 &  64 & 0 & officelobby & 0.3333333 & 0\\\\\n",
       "\t3 &  56 & 0 & sociallobby & 0.3333333 & 0\\\\\n",
       "\t4 &  96 & 0 & control     & 0.0000000 & 0\\\\\n",
       "\t5 & 101 & 0 & officelobby & 0.0000000 & 0\\\\\n",
       "\t6 &  82 & 0 & sociallobby & 0.0000000 & 1\\\\\n",
       "\\end{tabular}\n"
      ],
      "text/markdown": [
       "\n",
       "A data.frame: 6 × 5\n",
       "\n",
       "| <!--/--> | caseid &lt;int&gt; | supportgroup &lt;int&gt; | treat &lt;chr&gt; | ally &lt;dbl&gt; | female &lt;int&gt; |\n",
       "|---|---|---|---|---|---|\n",
       "| 1 |  36 | 0 | control     | 0.3333333 | 0 |\n",
       "| 2 |  64 | 0 | officelobby | 0.3333333 | 0 |\n",
       "| 3 |  56 | 0 | sociallobby | 0.3333333 | 0 |\n",
       "| 4 |  96 | 0 | control     | 0.0000000 | 0 |\n",
       "| 5 | 101 | 0 | officelobby | 0.0000000 | 0 |\n",
       "| 6 |  82 | 0 | sociallobby | 0.0000000 | 1 |\n",
       "\n"
      ],
      "text/plain": [
       "  caseid supportgroup treat       ally      female\n",
       "1  36    0            control     0.3333333 0     \n",
       "2  64    0            officelobby 0.3333333 0     \n",
       "3  56    0            sociallobby 0.3333333 0     \n",
       "4  96    0            control     0.0000000 0     \n",
       "5 101    0            officelobby 0.0000000 0     \n",
       "6  82    0            sociallobby 0.0000000 1     "
      ]
     },
     "metadata": {},
     "output_type": "display_data"
    }
   ],
   "source": [
    "# Function to re-randomize, or \"shuffle\", the treatment variable\n",
    "re.randomize <- function(input.data) {\n",
    "    input.data$treat <- sample(input.data$treat)\n",
    "    return(input.data)\n",
    "}\n",
    "head(re.randomize(data))"
   ]
  },
  {
   "cell_type": "code",
   "execution_count": 12,
   "metadata": {},
   "outputs": [
    {
     "data": {
      "text/html": [
       "0.11617458279846"
      ],
      "text/latex": [
       "0.11617458279846"
      ],
      "text/markdown": [
       "0.11617458279846"
      ],
      "text/plain": [
       "[1] 0.1161746"
      ]
     },
     "metadata": {},
     "output_type": "display_data"
    }
   ],
   "source": [
    "# Function to compute the effect of social lobbying\n",
    "compute.social.lobby.effect <- function(input.data) {\n",
    "    estimate <- difference_in_means(supportgroup ~ treat, input.data,\n",
    "                                    condition1 = 'control', condition2 = 'sociallobby')$coefficients\n",
    "    return(as.numeric(estimate))\n",
    "}\n",
    "\n",
    "actual.estimate <- compute.social.lobby.effect(data)\n",
    "actual.estimate"
   ]
  },
  {
   "cell_type": "code",
   "execution_count": 13,
   "metadata": {
    "scrolled": true
   },
   "outputs": [
    {
     "data": {
      "text/html": [
       "0.0673940949935815"
      ],
      "text/latex": [
       "0.0673940949935815"
      ],
      "text/markdown": [
       "0.0673940949935815"
      ],
      "text/plain": [
       "[1] 0.06739409"
      ]
     },
     "metadata": {},
     "output_type": "display_data"
    },
    {
     "data": {
      "text/html": [
       "-0.112965340179718"
      ],
      "text/latex": [
       "-0.112965340179718"
      ],
      "text/markdown": [
       "-0.112965340179718"
      ],
      "text/plain": [
       "[1] -0.1129653"
      ]
     },
     "metadata": {},
     "output_type": "display_data"
    },
    {
     "data": {
      "text/html": [
       "-0.058408215661104"
      ],
      "text/latex": [
       "-0.058408215661104"
      ],
      "text/markdown": [
       "-0.058408215661104"
      ],
      "text/plain": [
       "[1] -0.05840822"
      ]
     },
     "metadata": {},
     "output_type": "display_data"
    }
   ],
   "source": [
    "compute.social.lobby.effect(re.randomize(data))\n",
    "compute.social.lobby.effect(re.randomize(data))\n",
    "compute.social.lobby.effect(re.randomize(data))"
   ]
  },
  {
   "cell_type": "markdown",
   "metadata": {},
   "source": [
    "The answer bounces around every time we run this function. This is what Sarah thinks we did in this experiment -- we took some data, randomly shuffled it into groups, and then looked at the outcomes. She thinks what we actually did to the people randomized into the social lobbying group didn't matter.\n",
    "\n",
    "Let's do this 50,000 times and store the results of all 50,000 times."
   ]
  },
  {
   "cell_type": "code",
   "execution_count": 14,
   "metadata": {
    "scrolled": true
   },
   "outputs": [
    {
     "data": {
      "text/html": [
       "<style>\n",
       ".list-inline {list-style: none; margin:0; padding: 0}\n",
       ".list-inline>li {display: inline-block}\n",
       ".list-inline>li:not(:last-child)::after {content: \"\\00b7\"; padding: 0 .5ex}\n",
       "</style>\n",
       "<ol class=list-inline><li>-0.034017971758665</li><li>0.0673940949935816</li><li>-0.034017971758665</li><li>0.0410783055198972</li><li>-0.0622593068035944</li><li>-0.111039794608472</li></ol>\n"
      ],
      "text/latex": [
       "\\begin{enumerate*}\n",
       "\\item -0.034017971758665\n",
       "\\item 0.0673940949935816\n",
       "\\item -0.034017971758665\n",
       "\\item 0.0410783055198972\n",
       "\\item -0.0622593068035944\n",
       "\\item -0.111039794608472\n",
       "\\end{enumerate*}\n"
      ],
      "text/markdown": [
       "1. -0.034017971758665\n",
       "2. 0.0673940949935816\n",
       "3. -0.034017971758665\n",
       "4. 0.0410783055198972\n",
       "5. -0.0622593068035944\n",
       "6. -0.111039794608472\n",
       "\n",
       "\n"
      ],
      "text/plain": [
       "[1] -0.03401797  0.06739409 -0.03401797  0.04107831 -0.06225931 -0.11103979"
      ]
     },
     "metadata": {},
     "output_type": "display_data"
    }
   ],
   "source": [
    "simulations <- replicate(50000, compute.social.lobby.effect(re.randomize(data)))\n",
    "head(simulations)"
   ]
  },
  {
   "cell_type": "markdown",
   "metadata": {},
   "source": [
    "We can look at all 50,000 visually:"
   ]
  },
  {
   "cell_type": "code",
   "execution_count": 15,
   "metadata": {
    "scrolled": false
   },
   "outputs": [
    {
     "data": {
      "image/png": "[encoded data removed]",
      "text/plain": [
       "plot without title"
      ]
     },
     "metadata": {
      "image/png": {
       "height": 420,
       "width": 420
      }
     },
     "output_type": "display_data"
    }
   ],
   "source": [
    "library(ggplot2)\n",
    "qplot(simulations, binwidth = .025) + geom_vline(xintercept = actual.estimate, color = 'red')"
   ]
  },
  {
   "cell_type": "markdown",
   "metadata": {},
   "source": [
    "The red line is the actual estimate in Grose et al.'s study. And **the standard error is the width of this distribution of what could have happened by chance**."
   ]
  },
  {
   "cell_type": "markdown",
   "metadata": {},
   "source": [
    "It looks like there's a decent number of simulations where, just by randomly reshuffling which observations we pretend are in the social lobbying treatment and which are in control, we see an estimate as large or larger than the estimate Grose et al. found.\n",
    "\n",
    "\"See, that's what I meant!\", Sarah says. And she has a point. 😒\n",
    "\n",
    "How common is this exactly? This next graph shows you all the simulations where the estimate was at least as large in blue."
   ]
  },
  {
   "cell_type": "code",
   "execution_count": 16,
   "metadata": {
    "scrolled": true
   },
   "outputs": [
    {
     "data": {
      "image/png": "[encoded data removed]",
      "text/plain": [
       "plot without title"
      ]
     },
     "metadata": {
      "image/png": {
       "height": 420,
       "width": 420
      }
     },
     "output_type": "display_data"
    }
   ],
   "source": [
    "simulations.at.least.as.large <- subset(simulations, simulations > actual.estimate)\n",
    "qplot(simulations, binwidth = .025) + geom_histogram(data = data.frame(x=simulations.at.least.as.large), aes(x=x), fill=\"blue\", binwidth = .025) + geom_vline(xintercept = actual.estimate, color = 'red')"
   ]
  },
  {
   "cell_type": "markdown",
   "metadata": {},
   "source": [
    "Let's count them:"
   ]
  },
  {
   "cell_type": "code",
   "execution_count": 17,
   "metadata": {},
   "outputs": [
    {
     "data": {
      "text/html": [
       "3378"
      ],
      "text/latex": [
       "3378"
      ],
      "text/markdown": [
       "3378"
      ],
      "text/plain": [
       "[1] 3378"
      ]
     },
     "metadata": {},
     "output_type": "display_data"
    }
   ],
   "source": [
    "length(simulations.at.least.as.large)"
   ]
  },
  {
   "cell_type": "code",
   "execution_count": 18,
   "metadata": {},
   "outputs": [
    {
     "data": {
      "text/html": [
       "50000"
      ],
      "text/latex": [
       "50000"
      ],
      "text/markdown": [
       "50000"
      ],
      "text/plain": [
       "[1] 50000"
      ]
     },
     "metadata": {},
     "output_type": "display_data"
    }
   ],
   "source": [
    "length(simulations)"
   ]
  },
  {
   "cell_type": "code",
   "execution_count": 19,
   "metadata": {},
   "outputs": [
    {
     "data": {
      "text/html": [
       "0.06756"
      ],
      "text/latex": [
       "0.06756"
      ],
      "text/markdown": [
       "0.06756"
      ],
      "text/plain": [
       "[1] 0.06756"
      ]
     },
     "metadata": {},
     "output_type": "display_data"
    }
   ],
   "source": [
    "length(simulations.at.least.as.large) / length(simulations)"
   ]
  },
  {
   "cell_type": "markdown",
   "metadata": {},
   "source": [
    "This is our first *p*-value in an experiment!\n",
    "\n",
    "Here's what this *p*-value means: **_if the treatment actually had no effect_, there is only a ~6.8% chance that we'd see an estimate this large or larger**. That is, if our skeptic Sarah were right, there's only a 6.8% chance we'd see what we saw. It's not impossible, but it's not all that likely."
   ]
  },
  {
   "cell_type": "markdown",
   "metadata": {},
   "source": [
    "## Revisiting interpretations of $p$-values\n",
    "\n",
    "In experiments, a statistically significant $p$-value ($p < 0.05$) means, **by arbitrary convention**, that we call the null hypothesis \"rejected\". Since the null hypothesis in experiments is that the treatment had no effect, this means we reject that the treatment had no effect if the $p$-value is $< 0.05$.\n",
    "\n",
    "But, to revisit what I said last week:\n",
    "\n",
    "#### A significant $p$-value doesn't mean the null hypothesis is _actually_ false\n",
    "\n",
    "Another way of thinking about what a _p_-value tells us: if we repeated the experiment many times, what percent of the time would we get an estimate this large if the treatment had no effect.\n",
    "\n",
    "For example, suppose 20 different groups in the class did a final project looking at whether eating jelly beans causes acne. Even if there is no effect of jelly bean eating on acne, we'd expect 1 out of the 20 groups to get a result with a *p*-value less than 0.05 merely by chance.\n",
    "\n",
    "xkcd is helpful again here:\n",
    "\n",
    "<img src=\"significant.png\" width=\"40%\" height=\"auto\">\n",
    "\n",
    "The important point here is that, even if the null hypothesis is true (the treatment has no effect), we might see a p-value less than 0.05. In fact, we expect this to happen around 5% of the time we run experiments.\n",
    "\n",
    "#### A non-significant $p$-value doesn't mean the null hypothesis is true\n",
    "\n",
    "Just like a statistically significant result doesn't necessarily mean the null hypothesis is false/the treatment has an effect, failing to find a statistically significant result doesn't mean the treatment has no effect.\n",
    "\n",
    "For example, an experiment might have a really small sample size, meaning **the standard error might be too big**. In this case, even a reasonably large treatment effect would be impossible to definitively distinguish from noise, and so we would have a large (non-significant) $p$-value. This doesn't mean the treatment has no effect. It just means we can't tell Sarah she's wrong.\n",
    "\n",
    "If you think a treatment has an effect and get a non-significant p-value, you don't need to abondon your beliefs. But Sarah is going to keep thinking the treatment has no effect; you can't show her much, either. An experiment with a non-significant p-value is simply *inconclusive*.\n",
    "\n",
    "#### Don't despair. An estimate is still our best guess.\n",
    "\n",
    "I can see this being frustrating. And yes, it *is* frustrating to get results from an experiment back when your estimate *suggests* your teatment might have an effect --- and yes, a skeptic can still say \"but there's a decent chance that you could have seen this estimate by chance.\"\n",
    "\n",
    "Often, data just isn't fully conclusive. That's life.\n",
    "\n",
    "However, just because an experiment doesn't establish that a treatment works beyond all reasonable doubt doesn't mean it tells us nothing.\n",
    "\n",
    "When we get results from experiments with insignificant p-values, a reasonable response is: \"If you're skeptical this treatment has an effect, I can't prove you wrong. It might not do anything. However, my best guess is that it does.\"\n",
    "\n",
    "Sometimes in life we have to make decisions, and **an insignificant p-value does not mean a treatment doesn't work**. An estimate is still our best guess, even if the evidence the treatment effect differs from zero isn't that strong."
   ]
  },
  {
   "cell_type": "markdown",
   "metadata": {},
   "source": [
    "## Reviewing Concepts/Terms\n",
    "\n",
    "- **_p_-value**: The probability we would see an estimate as large or larger as the one we did, *if* a skeptic were correct that the treatment had no effect.\n",
    "    - Does *not* measure the probability the treatment has no effect.\n",
    "    - Does *not* measure the probability the treatment has an effect.\n",
    "    - Helps answer a skeptic of a treatment by telling them how likely it is we would see the effect _estimate_ we did if the treatment actually had no effect.\n",
    "- **Statistical significance**: A _p_-value less than 0.05. This is an arbitrary threshold social scientists have agreed upon to decide that there is strong statistical evidence that a treatment has an effect.\n",
    "    - **If you have a significant _p_-value**: this does not mean the treatment *definitely* has an effect. It's possible--indeed there's a 5% chance--of getting a statistically significant result even if a treatment has no effect. However, by convention, we decide to simply call the skeptic disproved at this point, even though the skeptic's perspective still is possible.\n",
    "    - **If you have an insignificant _p_-value**: this does *not* mean that the treatment *definitely does not* have an effect. For example, a treatment might have an effect but the sample size of an experiment might be too small (i.e., the standard error might be too large/wide) for the experiment to demonstrate the effect is due to chance. **The estimate is still our best guess, even if we can't disprove a skeptic either.**"
   ]
  },
  {
   "cell_type": "markdown",
   "metadata": {},
   "source": [
    "If you're still having trouble with $p$-values, I recommend <a href=\"https://medium.com/@timothyguang/can-you-explain-the-p-value-to-your-grandmother-heres-an-intuitive-explanation-f64e6c0ecffb\" target=\"_blank\">this blog post</a>."
   ]
  }
 ],
 "metadata": {
  "kernelspec": {
   "display_name": "R",
   "language": "R",
   "name": "ir"
  },
  "language_info": {
   "codemirror_mode": "r",
   "file_extension": ".r",
   "mimetype": "text/x-r-source",
   "name": "R",
   "pygments_lexer": "r",
   "version": "4.1.2"
  },
  "latex_envs": {
   "LaTeX_envs_menu_present": true,
   "autoclose": false,
   "autocomplete": true,
   "bibliofile": "biblio.bib",
   "cite_by": "apalike",
   "current_citInitial": 1,
   "eqLabelWithNumbers": true,
   "eqNumInitial": 1,
   "hotkeys": {
    "equation": "Ctrl-E",
    "itemize": "Ctrl-I"
   },
   "labels_anchors": false,
   "latex_user_defs": false,
   "report_style_numbering": false,
   "user_envs_cfg": false
  }
 },
 "nbformat": 4,
 "nbformat_minor": 2
}
