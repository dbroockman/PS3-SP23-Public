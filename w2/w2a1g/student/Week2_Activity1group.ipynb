{
 "cells": [
  {
   "cell_type": "markdown",
   "id": "0017c0f9",
   "metadata": {
    "tags": [
     "include"
    ]
   },
   "source": [
    "# POLSCI 3\n",
    "\n",
    "## Week 2, Activity 1: Analyzing Quantitative Data using R in Jupyter Notebooks"
   ]
  },
  {
   "cell_type": "markdown",
   "id": "a859e67f",
   "metadata": {},
   "source": [
    "In this first activity, we will apply our newly acquired R skills!\n",
    "\n",
    "In Lecture, I looked at an example dataset on sales at Berkeley's student store.\n",
    "\n",
    "Today, let's take a look at *Stanford's* student store's sales from the past 5 months. The manager, Mr. Ima Luzer, need your help to understand what they've been selling. (All the Stanford students he asked were stumped!)"
   ]
  },
  {
   "cell_type": "code",
   "execution_count": null,
   "id": "0108ba94",
   "metadata": {
    "editable": false
   },
   "outputs": [],
   "source": [
    "# FIRST, SELECT THIS CELL AND HIT THE RUN BUTTON\n",
    "library(testthat)\n",
    "library(ottr)"
   ]
  },
  {
   "cell_type": "markdown",
   "id": "184e8fad",
   "metadata": {},
   "source": [
    "### Part 1: Importing the Data"
   ]
  },
  {
   "cell_type": "markdown",
   "id": "cdf91976",
   "metadata": {},
   "source": [
    "### **<span style=\"color:red\">Instructions: Complete the cells below by replacing \"`# YOUR CODE HERE`\" within the code cell with the right answer.</span>**"
   ]
  },
  {
   "cell_type": "markdown",
   "id": "63c00a47",
   "metadata": {},
   "source": [
    "First of all, we need to load our data set into a variable for later reference. "
   ]
  },
  {
   "cell_type": "markdown",
   "id": "3678fb8b",
   "metadata": {},
   "source": [
    "This first line is already written for you. It saves the dataset that the command `read.csv('activity_notebook1.csv')` loads into a dataset named `suSales`. **Remember, you need to click this cell and hit \"Run\" to run it.**"
   ]
  },
  {
   "cell_type": "code",
   "execution_count": null,
   "id": "12e452e2",
   "metadata": {
    "editable": false
   },
   "outputs": [],
   "source": [
    "suSales <- read.csv('activity_notebook1.csv')"
   ]
  },
  {
   "cell_type": "markdown",
   "id": "33420e46",
   "metadata": {},
   "source": [
    "<!-- BEGIN QUESTION -->\n",
    "\n",
    "Awesome! now let's take a look at our data.\n",
    "\n",
    "------\n",
    "\n",
    "**Question 1:** Take a look at the content of suSales by simply typing `suSales`. Then hit run.\n",
    "\n",
    "**Hint**: If you see an error, it might be because you didn't run the cell above that reads in the data. You need to run that cell first before running the cell below.\n"
   ]
  },
  {
   "cell_type": "code",
   "execution_count": null,
   "id": "083b1448",
   "metadata": {
    "tags": []
   },
   "outputs": [],
   "source": [
    "# Replace the \"# YOUR CODE HERE\" below with just suSales, then run this cell. You should see a\n",
    "# table of data print out.\n",
    "# YOUR CODE HERE"
   ]
  },
  {
   "cell_type": "markdown",
   "id": "c70e9121",
   "metadata": {},
   "source": [
    "<!-- END QUESTION -->\n",
    "\n",
    "In this class, you'll always see a **codebook** that tells you what each variable in a dataset means right under the dataset. Here's what the variables mean in this dataset:\n",
    "\n",
    "- `Month`: What month of the year the sales refer to\n",
    "- `Hoodie`: How many Stanford hoodies sold that month\n",
    "- `Sweater`: How many Stanford sweaters sold that month\n",
    "- `OskiShirt`: How many Oski the Bear (Berkeley's mascot) shirts were sold that month"
   ]
  },
  {
   "cell_type": "markdown",
   "id": "4c8ee726",
   "metadata": {},
   "source": [
    "Hmmm. Who would've thought that Oski Shirts are such a big hit at Stanford? Something might off. Let's conduct some further investigation."
   ]
  },
  {
   "cell_type": "markdown",
   "id": "4c315fbd",
   "metadata": {},
   "source": [
    "-----\n",
    "\n",
    "### Part 2: Data Analysis"
   ]
  },
  {
   "cell_type": "markdown",
   "id": "97f500b5",
   "metadata": {},
   "source": [
    "<!-- BEGIN QUESTION -->\n",
    "\n",
    "**Question 2.** Print out the `OskiShirt` variable from `suSales`. If you're successful, you should see the contents of the `OskiShirt` column from the `suSales` data you saw above.\n",
    "\n",
    "**Hint:** This is where you use the `$`.\n"
   ]
  },
  {
   "cell_type": "code",
   "execution_count": null,
   "id": "470c02f1",
   "metadata": {
    "tags": []
   },
   "outputs": [],
   "source": [
    "# Print the OskiShirt variable here, replacing \"# YOUR CODE HERE\" with the\n",
    "# command to retrieve the OskiShirt column from suSales.\n",
    "# YOUR CODE HERE"
   ]
  },
  {
   "cell_type": "markdown",
   "id": "f5bafe9e",
   "metadata": {},
   "source": [
    "<!-- END QUESTION -->\n",
    "\n",
    "Nice! You know how to retrieve a variable from a dataset! Let's use this power to calculate the mean (also called average) of the OskiShirt variable. This will tell us, on average, how many OskiShirts the data says Stanford students purchase per month.\n",
    "\n",
    "------\n",
    "\n",
    "**Question 3.** On the first line, replace \"`NULL # YOUR CODE HERE`\" with code that saves the mean of the `OskiShirt` variable into the variable called `oskiMean`. Then the second line, which is just `oskiMean`, will print out the answer you just saved. You don't need to modify the second line."
   ]
  },
  {
   "cell_type": "code",
   "execution_count": null,
   "id": "35bcd740",
   "metadata": {
    "tags": []
   },
   "outputs": [],
   "source": [
    "# Calculate mean of the OskiShirt in the suSales dataset, save it in oskiMean\n",
    "oskiMean <- NULL # YOUR CODE HERE\n",
    "oskiMean"
   ]
  },
  {
   "cell_type": "code",
   "execution_count": null,
   "id": "d8089e65",
   "metadata": {
    "deletable": false,
    "editable": false
   },
   "outputs": [],
   "source": [
    ". = ottr::check(\"tests/q3.R\")"
   ]
  },
  {
   "cell_type": "markdown",
   "id": "095c7b8d",
   "metadata": {},
   "source": [
    "**Hint before you move on**: run the cell above and it will tell you if you subsetted correctly. If you see \"All tests passed!\", it means you did!"
   ]
  },
  {
   "cell_type": "markdown",
   "id": "94efa3d3",
   "metadata": {},
   "source": [
    "------\n",
    "\n",
    "**Question 4.** Now, do the same, but for the `Sweater` variable. In particular, on the first line, replace \"`NULL # YOUR CODE HERE`\" with code that calculates the mean of the `Sweater` variable and stores it in `sweaterMean`. Then the next line will print out the results you saved in `sweaterMean`."
   ]
  },
  {
   "cell_type": "code",
   "execution_count": null,
   "id": "2284ca82",
   "metadata": {
    "tags": []
   },
   "outputs": [],
   "source": [
    "# Calculate mean of Sweater, save in sweaterMean\n",
    "sweaterMean <- NULL # YOUR CODE HERE\n",
    "sweaterMean"
   ]
  },
  {
   "cell_type": "code",
   "execution_count": null,
   "id": "f4325faa",
   "metadata": {
    "deletable": false,
    "editable": false
   },
   "outputs": [],
   "source": [
    ". = ottr::check(\"tests/q4.R\")"
   ]
  },
  {
   "cell_type": "markdown",
   "id": "9c4b410f",
   "metadata": {},
   "source": [
    "Wait a minute. Take a look at how large you found `oskiMean` was versus how large `sweaterMean` was. It seems pretty strange that Stanford students are buying even more shirts with Oski the Bear than they are buying Stanford sweater.\n",
    "\n",
    "We asked Mr. Luzer (the store manager) about this since something seems strange. He realized there there was a mistake, and the dataset mistakenly recorded each Oski Shirt sale 4 times. So, we need to divide `oskiMean` by 4 to get the correct number of Oski shirts sold on the average month.\n",
    "\n",
    "------\n",
    "\n",
    "**Question 5.** Divide the `oskiMean` variable by 4 and save it in the variable `oskiMeanCorrected`. Then, print `oskiMeanCorrected` again.\n",
    "\n",
    "Hint: Remember, R can do arithmetic! You already have `oskiMean`. Now, you just need to divide it by 4. Use `/` to divide.\n"
   ]
  },
  {
   "cell_type": "code",
   "execution_count": null,
   "id": "cd129a9a",
   "metadata": {
    "tags": []
   },
   "outputs": [],
   "source": [
    "# Store the true mean of Oski Shirt sales by dividing oskiMean by 4\n",
    "oskiMeanCorrected <- NULL # YOUR CODE HERE\n",
    "oskiMeanCorrected"
   ]
  },
  {
   "cell_type": "code",
   "execution_count": null,
   "id": "2a00970f",
   "metadata": {
    "deletable": false,
    "editable": false
   },
   "outputs": [],
   "source": [
    ". = ottr::check(\"tests/q5.R\")"
   ]
  },
  {
   "cell_type": "markdown",
   "id": "5a831308",
   "metadata": {},
   "source": [
    "Okay, that seems a bit more reasonable. Now we know that Stanford students really *do* love Oski the Bear! Who wouldn't?\n",
    "\n",
    "<img src=\"oski.jpeg\" style=\"width: 50%\"/>"
   ]
  },
  {
   "cell_type": "markdown",
   "id": "56a0a917",
   "metadata": {},
   "source": [
    "# Submitting Your Notebook (please read carefully!)\n",
    "\n",
    "<span style=\"color:red\">**Only one** group member needs to turn in a notebook for your entire group.</span>\n",
    "\n",
    "To submit your notebook...\n",
    "\n",
    "### 1. Click `File` $\\rightarrow$ `Save and Checkpoint`.\n",
    "\n",
    "### 2. Wait 5 seconds.\n",
    "\n",
    "### 3. Select the cell below and hit run."
   ]
  },
  {
   "cell_type": "code",
   "execution_count": null,
   "id": "86bf6d4c",
   "metadata": {},
   "outputs": [],
   "source": [
    "ottr::export(\"Week2_Activity1group.ipynb\")"
   ]
  },
  {
   "cell_type": "markdown",
   "id": "d8f58d58",
   "metadata": {},
   "source": [
    "After you hit \"Run\" on the cell above, click the download link. A .zip file should download to your computer.\n",
    "\n",
    "(If you make changes to your notebook, you'll need to hit save and then run the cell above again before you submit to get a new version of it.)\n",
    "\n",
    "### 4. Submit the .zip file you just downloaded <a href=\"https://www.gradescope.com/\" target=\"_blank\">on Gradescope here</a>.\n",
    "\n",
    "Notes:\n",
    "\n",
    "- **This does not seem to work on Chrome for iPad or iPhone.** If you're using an iPad or iPhone, you need to download the file using **Safari**.\n",
    "- If your web browser automatically unzips the .zip file (so you see a folder instead of a .zip file), you can just upload the .ipynb file that is inside the folder.\n",
    "- If this method is not working for you, try this: hit `File`, then `Download as`, then `Notebook (.ipynb)` and submit that.\n",
    "\n",
    "### 5. Add your group members' names in Gradescope."
   ]
  },
  {
   "cell_type": "markdown",
   "id": "e3a53dca",
   "metadata": {
    "deletable": false,
    "editable": false
   },
   "source": [
    "## Submission\n",
    "\n",
    "Make sure you have run all cells in your notebook in order before running the cell below, so that all images/graphs appear in the output. The cell below will generate a zip file for you to submit. **Please save before exporting!**"
   ]
  },
  {
   "cell_type": "code",
   "execution_count": null,
   "id": "dea2a185",
   "metadata": {
    "deletable": false,
    "editable": false
   },
   "outputs": [],
   "source": [
    "# Save your notebook first, then run this cell to export your submission.\n",
    "ottr::export(\"Week2_Activity1group.ipynb\")"
   ]
  },
  {
   "cell_type": "markdown",
   "id": "90ac1fe6",
   "metadata": {},
   "source": [
    " "
   ]
  }
 ],
 "metadata": {
  "kernelspec": {
   "display_name": "R",
   "language": "R",
   "name": "ir"
  },
  "language_info": {
   "codemirror_mode": "r",
   "file_extension": ".r",
   "mimetype": "text/x-r-source",
   "name": "R",
   "pygments_lexer": "r",
   "version": "4.1.2"
  },
  "latex_envs": {
   "LaTeX_envs_menu_present": true,
   "autoclose": false,
   "autocomplete": true,
   "bibliofile": "biblio.bib",
   "cite_by": "apalike",
   "current_citInitial": 1,
   "eqLabelWithNumbers": true,
   "eqNumInitial": 1,
   "hotkeys": {
    "equation": "Ctrl-E",
    "itemize": "Ctrl-I"
   },
   "labels_anchors": false,
   "latex_user_defs": false,
   "report_style_numbering": false,
   "user_envs_cfg": false
  }
 },
 "nbformat": 4,
 "nbformat_minor": 5
}
