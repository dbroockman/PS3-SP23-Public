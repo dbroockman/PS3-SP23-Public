{
 "cells": [
  {
   "cell_type": "markdown",
   "id": "b1001354",
   "metadata": {},
   "source": [
    "# POLSCI 3\n",
    "\n",
    "## Week 8, Lecture Notebook 2: Generalizability"
   ]
  },
  {
   "cell_type": "markdown",
   "id": "476a9e1a",
   "metadata": {},
   "source": [
    "### Why generalize?\n",
    "\n",
    "When we conduct experiments, we learn about the effect of the *particular treatment* studied, conducted *among the people* the experiment was conducted among, *at the time/in the context* the experiment was conducted. But we're usually interested in *generalizing* from experiments across all these dimensions:\n",
    "\n",
    "- *Treatment*: Problem Set 2 looked at the effect of a \"gentle\" social pressure mailer. What if we made it even \"gentler\" by not telling people how often their neighbors had voted?\n",
    "- *People*: Would the effects of the \"both\" condition among Utah Republican precinct chairs be similar to the effects for Utah Democratic precinct chairs? How about precinct chairs in other states?\n",
    "- *Time/Context*: The social pressure experiment we analyzed in Week 5 was conducted in an off-year primary election (e.g., imagine a 2021 primary election for Berkeley mayor). Would the effects be different in a Presidential general election (e.g., Biden versus Trump in 2020)?\n",
    "\n",
    "We learned earlier this week when we studied *heterogeneous treatment effects* that treatment effects can differ across individuals. When we try to generalize an experiment conducted on one particular treatment, among one particular population, at one particular time/in one particular context, the effects might differ between the original study and the new setting we are trying to generalize to."
   ]
  },
  {
   "cell_type": "markdown",
   "id": "bb64c55e",
   "metadata": {},
   "source": [
    "### Why might not effects generalize perfectly? An example\n",
    "\n",
    "Imagine an experiment done in the 2020 Presidential election in two states: Wyoming and Wisconsin. By the 2020 election, social pressure mail had become a mainstay of political campaigns, and so voters in swing states were recieving a lot of social pressure mail. Wisconsin was an important swing state in 2020, so voters there likely received a lot of social pressure mail.\n",
    "\n",
    "In that context, an experiment sending one social pressure mailer would create the following situation:\n",
    "\n",
    "<table>\n",
    "<thead>\n",
    "  <tr>\n",
    "    <th></th>\n",
    "    <th colspan=\"2\">Average Number of Social<br>Pressure Mailers Received</th>\n",
    "  </tr>\n",
    "\n",
    "  <tr>\n",
    "    <td></td>\n",
    "      <td><b>Control</b></td>\n",
    "      <td><b>Treatment</b></td>\n",
    "  </tr>\n",
    "    </thead>\n",
    "<tbody>\n",
    "  <tr>\n",
    "    <td>Wyoming</td>\n",
    "    <td>0</td>\n",
    "    <td>1</td>\n",
    "  </tr>\n",
    "  <tr>\n",
    "    <td>Wisconsin</td>\n",
    "    <td>17</td>\n",
    "    <td>18</td>\n",
    "  </tr>\n",
    "</tbody>\n",
    "</table>\n",
    "\n",
    "In both places, the experiments are completely valid. In both places, they would answer the same question: what is the effect of sending voters a social pressure mailer on voter turnout?\n",
    "\n",
    "But they are answering those questions in different contexts. And in Wyoming, the effect of sending voters a social pressure mailer might be much bigger because voters otherwise wouldn't get any social pressure mailers. But in Wisconsin, the effect might be smaller because people there probably already received a lot of social pressure mailers.\n",
    "\n",
    "At least, that is my guess of what would happen. But, **there is no magic way to know whether the effect of a treatment would be the same if it was done differently, among other people, or in another time/context. We just have to do our best to make an educated guess -- or gather more data to understand how a treatment's effects vary.**"
   ]
  },
  {
   "cell_type": "markdown",
   "id": "5884a021",
   "metadata": {},
   "source": [
    "### A common approach for understanding generalizability: meta-analysis\n",
    "\n",
    "Is generalizing hopeless? Instead of just throwing up our hands and saying we don't know what one experiment says about what causal effects would be of another treatment, in another context, or among a different population, a common approach is to look across the results of *many* experiments and look to see how the results vary.\n",
    "\n",
    "This is called *meta-analysis* because it's an analysis of analyses.\n",
    "\n",
    "For some questions, we can't do this, because there's only been one experiment -- all we can do is make an educated guess.\n",
    "\n",
    "But for other questions that are studied more often, we can compile evidence from across many contexts and understand if and how effects vary.\n",
    "\n",
    "Today, we'll take a look at a dataset from a recent paper I wrote that collects all of the public experiments that had been done on persuasion in American political campaigns.\n",
    "\n",
    "### Campaign persuasion dataset"
   ]
  },
  {
   "cell_type": "code",
   "execution_count": null,
   "id": "e752295f",
   "metadata": {
    "scrolled": false
   },
   "outputs": [],
   "source": [
    "library(estimatr)\n",
    "library(ggplot2)\n",
    "\n",
    "data <- read.csv(\"ps3_KB_campaign.csv\")\n",
    "head(data)"
   ]
  },
  {
   "cell_type": "markdown",
   "id": "60fec234",
   "metadata": {},
   "source": [
    "In this dataset, every row is an experiment. The authors (me and Josh Kalla) collected information from previous experiments and collected it in this dataset for meta-analysis.\n",
    "\n",
    "Here is a quick rundown of what each column means:\n",
    "\n",
    "- `Experiment`: Paper reference of the experiment\n",
    "- `effect`: estimate of the effect size\n",
    "- `SE`: standard error of the effect estimate\n",
    "- `precision`: precision; this is how precise the experiment is. defined as $\\frac{1}{\\text{Standard Error}^2}$ (weights to be used)\n",
    "- `General`: binary variable indicating whether the experiment was done in a general election (1 = yes, 0 = no)\n",
    "- `Primary`: binary variable indicating whether the experiment was done in a primary election (1 = yes, 0 = no). these elections are typically quieter\n",
    "- `Treatment.within.2months.of.election`: binary variable incating whether the experiment took place within 2 months of election day (1 = yes, was within 2 months; 0 = no, was more than 2 months before election day)"
   ]
  },
  {
   "cell_type": "markdown",
   "id": "b20028e1",
   "metadata": {},
   "source": [
    "### Meta-analysis using `weighted.mean()`"
   ]
  },
  {
   "cell_type": "markdown",
   "id": "0c20ac58",
   "metadata": {},
   "source": [
    "One way we could analyze this data is by just looking at the average effect."
   ]
  },
  {
   "cell_type": "code",
   "execution_count": null,
   "id": "e2a6b1d0",
   "metadata": {},
   "outputs": [],
   "source": [
    "mean(data$effect)"
   ]
  },
  {
   "cell_type": "markdown",
   "id": "ab227902",
   "metadata": {},
   "source": [
    "But some of these experiments are much more precise than others:"
   ]
  },
  {
   "cell_type": "code",
   "execution_count": null,
   "id": "324a5ab7",
   "metadata": {},
   "outputs": [],
   "source": [
    "qplot(data$SE)"
   ]
  },
  {
   "cell_type": "markdown",
   "id": "f0e037bc",
   "metadata": {},
   "source": [
    "As a result, when we conduct meta-analyses, we have to *weight* our estimates by how precise they are.\n",
    "\n",
    "Why? Remember this example from last week:\n",
    "\n",
    "<table class=\"tg\">\n",
    "<thead>\n",
    "  <tr>\n",
    "    <th class=\"tg-0pky\">Experiment</th>\n",
    "    <th class=\"tg-7btt\">Estimate</th>\n",
    "    <th class=\"tg-7btt\">Standard Error</th>\n",
    "    <th class=\"tg-amwm\">95% Confidence<br>Interval</th>\n",
    "  </tr>\n",
    "</thead>\n",
    "<tbody>\n",
    "  <tr>\n",
    "    <td class=\"tg-fymr\">Experiment 1: Letter A</td>\n",
    "    <td class=\"tg-0pky\">8%</td>\n",
    "    <td class=\"tg-0pky\">30%</td>\n",
    "    <td class=\"tg-0lax\">[-50%, 66%]</td>\n",
    "  </tr>\n",
    "  <tr>\n",
    "    <td class=\"tg-fymr\">Experiment 2: Letter B</td>\n",
    "    <td class=\"tg-0pky\">5%</td>\n",
    "    <td class=\"tg-0pky\">1%</td>\n",
    "    <td class=\"tg-0lax\">[3%, 7%]</td>\n",
    "  </tr>\n",
    "</tbody>\n",
    "</table>\n",
    "\n",
    "If we wanted to combine the data from these two datasets to ask \"what is the average effect of letters\", we wouldn't want to just average 8% and 5%. We have a lot more information about the effects of letters from Experiment 2, so we'd want to put a lot more weight on experiment 2.\n",
    "\n",
    "It turns out that the amount of information in an experiment -- how *precise* it is -- is defined as $\\frac{1}{\\text{Standard Error}^2}$. The basic message: the smaller the standard error, the more precise the experiment is."
   ]
  },
  {
   "cell_type": "code",
   "execution_count": null,
   "id": "eb67e69d",
   "metadata": {
    "scrolled": true
   },
   "outputs": [],
   "source": [
    "example.data <- data.frame(experiment = c(1,2), estimate = c(8, 5), SE = c(30, 1))\n",
    "example.data"
   ]
  },
  {
   "cell_type": "markdown",
   "id": "0d8fe925",
   "metadata": {},
   "source": [
    "Adding in a precision column:"
   ]
  },
  {
   "cell_type": "code",
   "execution_count": null,
   "id": "1634eb73",
   "metadata": {},
   "outputs": [],
   "source": [
    "example.data$precision <- 1/example.data$SE^2\n",
    "example.data"
   ]
  },
  {
   "cell_type": "markdown",
   "id": "25b37b5a",
   "metadata": {},
   "source": [
    "Unweighted, the results would look like this:"
   ]
  },
  {
   "cell_type": "code",
   "execution_count": null,
   "id": "cb66018d",
   "metadata": {},
   "outputs": [],
   "source": [
    "mean(example.data$estimate)"
   ]
  },
  {
   "cell_type": "markdown",
   "id": "aa511e0f",
   "metadata": {},
   "source": [
    "To weight our average by this, we can use the `weighted.mean()` function, like this:"
   ]
  },
  {
   "cell_type": "code",
   "execution_count": null,
   "id": "97611671",
   "metadata": {
    "scrolled": true
   },
   "outputs": [],
   "source": [
    "weighted.mean(example.data$estimate, example.data$precision)"
   ]
  },
  {
   "cell_type": "markdown",
   "id": "22c34c88",
   "metadata": {},
   "source": [
    "Let's see this in the main dataset:"
   ]
  },
  {
   "cell_type": "code",
   "execution_count": null,
   "id": "5d801d64",
   "metadata": {
    "scrolled": true
   },
   "outputs": [],
   "source": [
    "weighted.mean(data$effect, data$precision)"
   ]
  },
  {
   "cell_type": "markdown",
   "id": "c5800c19",
   "metadata": {},
   "source": [
    "#### Using `weighted.mean()` to examine how effects vary\n",
    "\n",
    "To examine how effects vary and generalize, we can run `weighted.mean()` in different subsets.\n",
    "\n",
    "For example, in this example, let's look at effects in Primary elections and General elections.\n",
    "\n",
    "In primary elections:"
   ]
  },
  {
   "cell_type": "code",
   "execution_count": null,
   "id": "62bcf81b",
   "metadata": {
    "scrolled": true
   },
   "outputs": [],
   "source": [
    "primaries <- subset(data, Primary == 1)\n",
    "weighted.mean(primaries$effect, primaries$precision)"
   ]
  },
  {
   "cell_type": "markdown",
   "id": "ebe96c78",
   "metadata": {},
   "source": [
    "Now, in general elections:"
   ]
  },
  {
   "cell_type": "code",
   "execution_count": null,
   "id": "dbd88377",
   "metadata": {},
   "outputs": [],
   "source": [
    "general.elections <- subset(data, General == 1)\n",
    "weighted.mean(general.elections$effect, general.elections$precision)"
   ]
  },
  {
   "cell_type": "markdown",
   "id": "af13a45e",
   "metadata": {},
   "source": [
    "Interesting! Looks like the effects of campaign persuasion are much larger in primaries than in general elections.\n",
    "\n",
    "This is a good example of a lesson: effects in one context doesn't necessarily generalize to others!\n",
    "\n",
    "In the activity, you'll use `subset()` and `weighted.mean()` to explore other patterns in the size of campaigns' persuasive effects.\n",
    "\n",
    "#### Last point: Understanding _why_ effects vary\n",
    "\n",
    "It's not necessarily straightforward to understand _why_ effects vary across people, contexts, etc. from meta-analyses.\n",
    "\n",
    "For example, why are the effects of campaign persuasion larger in primaries than in general elections?\n",
    "\n",
    "This could be for a lot of reasons: in general elections, voters might remain loyal to their parties; but in primaries, candidate's party doesn't appear on the ballot, so more voters might be \"up for grabs.\" Alternatively, in general elections tend to have more campaign spending, so the effect of additional spending might be lower than in primaries, which tend to be quieter.\n",
    "\n",
    "One of the things meta-analyses do is prompt further theories and hypotheses to understand what creates the patterns we find in them.\n",
    "\n",
    "For example, based on the evidence from the meta-analyses above, we might theorize that, as I said above, when candidates' parties don't appear on a ballot, it's easier to persuade voters. To test this hypothesis, one could imagine an experiment showing voters a sample ballot and randomly assigning both a) whether or not candidate party labels are present and b) information about the candidates. We could then look to see if the effect of the information is bigger when candidate party labels are shown versus when they are not.\n",
    "\n",
    "<table>\n",
    "<thead>\n",
    "  <tr>\n",
    "    <th></th>\n",
    "      <th>Party Labels</th>\n",
    "    <th>No Party Labels</th>\n",
    "  </tr>\n",
    "</thead>\n",
    "<tbody>\n",
    "  <tr>\n",
    "      <td><b>No Persuasive Information</b></td>\n",
    "    <td>Group 1</td>\n",
    "    <td>Group 2</td>\n",
    "  </tr>\n",
    "  <tr>\n",
    "      <td><b>Persuasive Information</b></td>\n",
    "    <td>Group 3</td>\n",
    "    <td>Group 4</td>\n",
    "  </tr>\n",
    "</tbody>\n",
    "</table>"
   ]
  }
 ],
 "metadata": {
  "kernelspec": {
   "display_name": "R",
   "language": "R",
   "name": "ir"
  },
  "language_info": {
   "codemirror_mode": "r",
   "file_extension": ".r",
   "mimetype": "text/x-r-source",
   "name": "R",
   "pygments_lexer": "r",
   "version": "4.1.2"
  },
  "latex_envs": {
   "LaTeX_envs_menu_present": true,
   "autoclose": false,
   "autocomplete": true,
   "bibliofile": "biblio.bib",
   "cite_by": "apalike",
   "current_citInitial": 1,
   "eqLabelWithNumbers": true,
   "eqNumInitial": 1,
   "hotkeys": {
    "equation": "Ctrl-E",
    "itemize": "Ctrl-I"
   },
   "labels_anchors": false,
   "latex_user_defs": false,
   "report_style_numbering": false,
   "user_envs_cfg": false
  }
 },
 "nbformat": 4,
 "nbformat_minor": 5
}
