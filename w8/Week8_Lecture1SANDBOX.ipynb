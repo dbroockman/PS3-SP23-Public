{
 "cells": [
  {
   "cell_type": "markdown",
   "id": "b1001354",
   "metadata": {},
   "source": [
    "# POLSCI 3\n",
    "\n",
    "## Week 8, Lecture Notebook 1: Heterogenous Treatment Effects"
   ]
  },
  {
   "cell_type": "markdown",
   "id": "5884a021",
   "metadata": {},
   "source": [
    "For the first half of Week 8, we'll be using the same dataset as we did in Week 7, the data from the Utah Republican Party's experiment to increase the number of women who serve as precinct chairs.\n",
    "\n",
    "But, there's a new variable in the dataset."
   ]
  },
  {
   "cell_type": "code",
   "execution_count": 11,
   "id": "e752295f",
   "metadata": {
    "scrolled": false
   },
   "outputs": [
    {
     "data": {
      "text/html": [
       "<table class=\"dataframe\">\n",
       "<caption>A data.frame: 6 × 7</caption>\n",
       "<thead>\n",
       "\t<tr><th></th><th scope=col>unique_id</th><th scope=col>treat</th><th scope=col>prop_sd_fem2014</th><th scope=col>sd_onefem2014</th><th scope=col>county</th><th scope=col>pc_male</th><th scope=col>mormon</th></tr>\n",
       "\t<tr><th></th><th scope=col>&lt;int&gt;</th><th scope=col>&lt;chr&gt;</th><th scope=col>&lt;dbl&gt;</th><th scope=col>&lt;int&gt;</th><th scope=col>&lt;chr&gt;</th><th scope=col>&lt;int&gt;</th><th scope=col>&lt;int&gt;</th></tr>\n",
       "</thead>\n",
       "<tbody>\n",
       "\t<tr><th scope=row>1</th><td>27215</td><td>supply </td><td>0.0</td><td>0</td><td>Grand  </td><td>1</td><td>0</td></tr>\n",
       "\t<tr><th scope=row>2</th><td>27386</td><td>control</td><td>0.0</td><td>0</td><td>Grand  </td><td>0</td><td>0</td></tr>\n",
       "\t<tr><th scope=row>3</th><td>27496</td><td>control</td><td>1.0</td><td>1</td><td>Grand  </td><td>1</td><td>0</td></tr>\n",
       "\t<tr><th scope=row>4</th><td>16202</td><td>demand </td><td>1.0</td><td>1</td><td>Daggett</td><td>1</td><td>1</td></tr>\n",
       "\t<tr><th scope=row>5</th><td>16241</td><td>control</td><td>0.5</td><td>1</td><td>Daggett</td><td>1</td><td>0</td></tr>\n",
       "\t<tr><th scope=row>6</th><td>26601</td><td>control</td><td>0.0</td><td>0</td><td>Emery  </td><td>1</td><td>0</td></tr>\n",
       "</tbody>\n",
       "</table>\n"
      ],
      "text/latex": [
       "A data.frame: 6 × 7\n",
       "\\begin{tabular}{r|lllllll}\n",
       "  & unique\\_id & treat & prop\\_sd\\_fem2014 & sd\\_onefem2014 & county & pc\\_male & mormon\\\\\n",
       "  & <int> & <chr> & <dbl> & <int> & <chr> & <int> & <int>\\\\\n",
       "\\hline\n",
       "\t1 & 27215 & supply  & 0.0 & 0 & Grand   & 1 & 0\\\\\n",
       "\t2 & 27386 & control & 0.0 & 0 & Grand   & 0 & 0\\\\\n",
       "\t3 & 27496 & control & 1.0 & 1 & Grand   & 1 & 0\\\\\n",
       "\t4 & 16202 & demand  & 1.0 & 1 & Daggett & 1 & 1\\\\\n",
       "\t5 & 16241 & control & 0.5 & 1 & Daggett & 1 & 0\\\\\n",
       "\t6 & 26601 & control & 0.0 & 0 & Emery   & 1 & 0\\\\\n",
       "\\end{tabular}\n"
      ],
      "text/markdown": [
       "\n",
       "A data.frame: 6 × 7\n",
       "\n",
       "| <!--/--> | unique_id &lt;int&gt; | treat &lt;chr&gt; | prop_sd_fem2014 &lt;dbl&gt; | sd_onefem2014 &lt;int&gt; | county &lt;chr&gt; | pc_male &lt;int&gt; | mormon &lt;int&gt; |\n",
       "|---|---|---|---|---|---|---|---|\n",
       "| 1 | 27215 | supply  | 0.0 | 0 | Grand   | 1 | 0 |\n",
       "| 2 | 27386 | control | 0.0 | 0 | Grand   | 0 | 0 |\n",
       "| 3 | 27496 | control | 1.0 | 1 | Grand   | 1 | 0 |\n",
       "| 4 | 16202 | demand  | 1.0 | 1 | Daggett | 1 | 1 |\n",
       "| 5 | 16241 | control | 0.5 | 1 | Daggett | 1 | 0 |\n",
       "| 6 | 26601 | control | 0.0 | 0 | Emery   | 1 | 0 |\n",
       "\n"
      ],
      "text/plain": [
       "  unique_id treat   prop_sd_fem2014 sd_onefem2014 county  pc_male mormon\n",
       "1 27215     supply  0.0             0             Grand   1       0     \n",
       "2 27386     control 0.0             0             Grand   0       0     \n",
       "3 27496     control 1.0             1             Grand   1       0     \n",
       "4 16202     demand  1.0             1             Daggett 1       1     \n",
       "5 16241     control 0.5             1             Daggett 1       0     \n",
       "6 26601     control 0.0             0             Emery   1       0     "
      ]
     },
     "metadata": {},
     "output_type": "display_data"
    }
   ],
   "source": [
    "#import libraries\n",
    "library(estimatr)\n",
    "\n",
    "data <- read.csv(\"ps3_week8_electing_women.csv\")\n",
    "head(data)"
   ]
  },
  {
   "cell_type": "markdown",
   "id": "60fec234",
   "metadata": {},
   "source": [
    "Here is a quick reminder of what each column means:\n",
    "\n",
    "- `unique_id`: Precinct ID\n",
    "- `treat`: treatment variable\n",
    "    - `'control'`: control group\n",
    "    - `'supply'`: supply group; party chair instructed to recruit 2-3 women\n",
    "    - `'demand'`: demand group; party chair reads letter at precinct convention\n",
    "    - `'both'`: a fourth group getting both the supply and demand treatments; party chair instructed to read letter *and* to recruit 2-3 women\n",
    "- `prop_sd_fem2014`: **Outcome**: Proportion of 2014 elected state delegates from that precinct who were women\n",
    "- `sd_onefem2014`: **Outcome**: 1 if at least one woman was selected; 0 otherwise\n",
    "- `county` : County name in Utah\n",
    "- `pc_male`: 1 if precinct chair is male; 0 otherwise (precinct chair is person who runs precinct meeting, would read letter if assigned to do so, etc.)\n",
    "- `mormon`: 1 if precinct chair filled out a survey and told the party they were a Mormon; 0 otherwise (either because not Mormon or did not fill out survey) **<span style=\"color:red\">New variable!</span>**"
   ]
  },
  {
   "cell_type": "code",
   "execution_count": 1,
   "id": "bf4d7d31",
   "metadata": {
    "scrolled": false
   },
   "outputs": [],
   "source": [
    "# YOUR CODE HERE"
   ]
  },
  {
   "cell_type": "code",
   "execution_count": 1,
   "id": "8e070977",
   "metadata": {
    "scrolled": false
   },
   "outputs": [],
   "source": [
    "# YOUR CODE HERE"
   ]
  },
  {
   "cell_type": "code",
   "execution_count": 1,
   "id": "1c486fca",
   "metadata": {
    "scrolled": false
   },
   "outputs": [],
   "source": [
    "# YOUR CODE HERE"
   ]
  },
  {
   "cell_type": "code",
   "execution_count": 1,
   "id": "c7636c23",
   "metadata": {
    "scrolled": false
   },
   "outputs": [],
   "source": [
    "# YOUR CODE HERE"
   ]
  },
  {
   "cell_type": "code",
   "execution_count": 1,
   "id": "5d37b006",
   "metadata": {
    "scrolled": false
   },
   "outputs": [],
   "source": [
    "# YOUR CODE HERE"
   ]
  },
  {
   "cell_type": "code",
   "execution_count": 1,
   "id": "a70021c9",
   "metadata": {
    "scrolled": false
   },
   "outputs": [],
   "source": [
    "# YOUR CODE HERE"
   ]
  },
  {
   "cell_type": "code",
   "execution_count": 1,
   "id": "2558f3a3",
   "metadata": {
    "scrolled": false
   },
   "outputs": [],
   "source": [
    "# YOUR CODE HERE"
   ]
  },
  {
   "cell_type": "code",
   "execution_count": 1,
   "id": "f17f640a",
   "metadata": {
    "scrolled": false
   },
   "outputs": [],
   "source": [
    "# YOUR CODE HERE"
   ]
  }
 ],
 "metadata": {
  "kernelspec": {
   "display_name": "R",
   "language": "R",
   "name": "ir"
  },
  "language_info": {
   "codemirror_mode": "r",
   "file_extension": ".r",
   "mimetype": "text/x-r-source",
   "name": "R",
   "pygments_lexer": "r",
   "version": "4.1.2"
  },
  "latex_envs": {
   "LaTeX_envs_menu_present": true,
   "autoclose": false,
   "autocomplete": true,
   "bibliofile": "biblio.bib",
   "cite_by": "apalike",
   "current_citInitial": 1,
   "eqLabelWithNumbers": true,
   "eqNumInitial": 1,
   "hotkeys": {
    "equation": "Ctrl-E",
    "itemize": "Ctrl-I"
   },
   "labels_anchors": false,
   "latex_user_defs": false,
   "report_style_numbering": false,
   "user_envs_cfg": false
  }
 },
 "nbformat": 4,
 "nbformat_minor": 5
}
