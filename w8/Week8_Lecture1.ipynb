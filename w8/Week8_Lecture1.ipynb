{
 "cells": [
  {
   "cell_type": "markdown",
   "id": "b1001354",
   "metadata": {},
   "source": [
    "# POLSCI 3\n",
    "\n",
    "## Week 8, Lecture Notebook 1: Heterogeneous Treatment Effects"
   ]
  },
  {
   "cell_type": "markdown",
   "id": "30d2eb33",
   "metadata": {},
   "source": [
    "### Heterogeneous Treatment Effects\n",
    "\n",
    "We're now done with the most difficult content in the class, standard errors and $p$-values. We now have the basic tools we need to understand essentially everything else we'll cover this semester.\n",
    "\n",
    "Today's lecture will focus on one of these ideas: *heterogeneous treatment effects*. Heterogeneous is just a fancy word for different. Heterogeneous treatment effects refers to the idea of **different treatment effects among different _subgroups_ of observations**.\n",
    "\n",
    "We've already seen a bit of this, we just haven't talked about it directly yet. For example, in Problem Set 1: The effect of the \"DeShawn\" letter treatment was different for different _subgroups_ of legislators: white Democratic legislators, non-white Democratic legislators, and Republican legislators.\n",
    "\n",
    "That was a heterogeneous treatment effect: the effect of the treatment was different for these different _subgroups_ of observations (in that case, each observation was a legislator)."
   ]
  },
  {
   "cell_type": "markdown",
   "id": "827981ba",
   "metadata": {},
   "source": [
    "### Two things to know about heterogeneous treatment effects\n",
    "\n",
    "#### We compute heterogeneous treatment effects by looking at effects within subsets\n",
    "\n",
    "In this class, we'll follow a basic recipe for examining heterogeneous treatment effects. You already know how to do do this!\n",
    "\n",
    "1. Save a new subset with just the subgroup of observations you want to look at effects among.\n",
    "2. Use `difference_in_means()`, but passing `data = name.of.the.subset`.\n",
    "\n",
    "For example:\n",
    "```\n",
    "subset.name <- subset(data, subset.var == 1)\n",
    "\n",
    "difference_in_means(outcome ~ treat, data = subset.name, condition1 = 'control', condition2 = 'treat')\n",
    "```"
   ]
  },
  {
   "cell_type": "markdown",
   "id": "a00e8e7c",
   "metadata": {},
   "source": [
    "#### Differences in treatment effects are observational/descriptive, not experimental/causal comparisons\n",
    "\n",
    "Remember how we defined causality: difference between potential outcomes.\n",
    "\n",
    "Before, we had a table like this:\n",
    "\n",
    "<table>\n",
    "<thead>\n",
    "  <tr>\n",
    "    <th>Legislator</th>\n",
    "    <th>Respond to<br>Jake Alias</th>\n",
    "    <th>Respond to<br>DeShawn Alias</th>\n",
    "    <th>Treatment Effect</th>\n",
    "  </tr>\n",
    "</thead>\n",
    "<tbody>\n",
    "  <tr>\n",
    "    <td>A</td>\n",
    "    <td>0</td>\n",
    "    <td>0</td>\n",
    "    <td>0</td>\n",
    "  </tr>\n",
    "  <tr>\n",
    "    <td>B</td>\n",
    "    <td>1</td>\n",
    "    <td>0</td>\n",
    "    <td>-1</td>\n",
    "  </tr>\n",
    "  <tr>\n",
    "    <td>C</td>\n",
    "    <td>1</td>\n",
    "    <td>1</td>\n",
    "    <td>0</td>\n",
    "  </tr>\n",
    "    <tr>\n",
    "    <td>D</td>\n",
    "    <td>0</td>\n",
    "    <td>0</td>\n",
    "    <td>0</td>\n",
    "  </tr>\n",
    "</tbody>\n",
    "</table>\n",
    "\n",
    "With heterogeneous treatment effects, we want to know the *average* treatment effect among different subgroups.\n",
    "\n",
    "For example, imagine these are **California legislators**:\n",
    "\n",
    "<table>\n",
    "<thead>\n",
    "  <tr>\n",
    "    <th>Legislator</th>\n",
    "    <th>Respond to<br>Jake Alias</th>\n",
    "    <th>Respond to<br>DeShawn Alias</th>\n",
    "    <th>Treatment Effect</th>\n",
    "  </tr>\n",
    "</thead>\n",
    "<tbody>\n",
    "  <tr>\n",
    "    <td>A</td>\n",
    "    <td>0</td>\n",
    "    <td>0</td>\n",
    "    <td>0</td>\n",
    "  </tr>\n",
    "  <tr>\n",
    "    <td>B</td>\n",
    "    <td>1</td>\n",
    "    <td>0</td>\n",
    "    <td>-1</td>\n",
    "  </tr>\n",
    "</tbody>\n",
    "</table>\n",
    "\n",
    "Now imagine these are **Virginia legislators**:\n",
    "\n",
    "<table>\n",
    "<thead>\n",
    "  <tr>\n",
    "    <th>Legislator</th>\n",
    "    <th>Respond to<br>Jake Alias</th>\n",
    "    <th>Respond to<br>DeShawn Alias</th>\n",
    "    <th>Treatment Effect</th>\n",
    "  </tr>\n",
    "</thead>\n",
    "<tbody>\n",
    "  <tr>\n",
    "    <td>C</td>\n",
    "    <td>1</td>\n",
    "    <td>1</td>\n",
    "    <td>0</td>\n",
    "  </tr>\n",
    "  <tr>\n",
    "    <td>D</td>\n",
    "    <td>0</td>\n",
    "    <td>0</td>\n",
    "    <td>0</td>\n",
    "  </tr>\n",
    "</tbody>\n",
    "</table>\n",
    "\n",
    "In these examples, the average treatment effect among California legislators is -0.5 and the average treatment effect among Virginia legislators is 0. This is a heterogeneous treatment effect.\n",
    "\n",
    "The key point: **we are simply _describing treatment effects_ within different subgroups**. These are causal effects **within** subgroups, but **the comparisons between them are not causal**. For example, we are **not** saying that _being a California legislator causes legislators to discriminate:_\n",
    "\n",
    "<table>\n",
    "<thead>\n",
    "  <tr>\n",
    "    <th>Legislator</th>\n",
    "    <th>Treatment Effect<br>if in California<br>(What we saw)</th>\n",
    "    <th>Treatment Effect<br>if in Virginia<br>(Counterfactual)</th>\n",
    "  </tr>\n",
    "</thead>\n",
    "<tbody>\n",
    "  <tr>\n",
    "    <td>A</td>\n",
    "    <td>0</td>\n",
    "    <td>0</td>\n",
    "  </tr>\n",
    "  <tr>\n",
    "    <td>B</td>\n",
    "    <td>-1</td>\n",
    "    <td>0</td>\n",
    "  </tr>\n",
    "</tbody>\n",
    "</table>\n",
    "\n",
    "\"Being a California legislator causes legislators to discriminate\" makes no sense. We are **not** saying that, counterfactually, the people who serve as legislators in California would discriminate less if those same people moved to Virginia and served in that legislature.\n",
    "\n",
    "Rather, we **are** saying that, descriptively speaking, the legislators in California discriminate more than the ones in Virginia.\n",
    "\n",
    "But this doesn't say anything about \"the effect of being a California legislator\" because it doesn't make sense to imagine the counterfactual that the California legislators instead served in Virginia.\n",
    "\n",
    "For example, in Problem Set 1, we weren't saying that the non-White legislators would discriminate more if we made them White. It's not clear what this even would mean. There is **no counterfactual**, so we are **not examining the _causal effect of being in the subgroup_ on treatment effects**. Instead, we simply described behavior in different subgroups and noted differences in how each responded to the treatment."
   ]
  },
  {
   "cell_type": "markdown",
   "id": "23f3988b",
   "metadata": {},
   "source": [
    "### Data example: Utah Precinct Chair Experiment"
   ]
  },
  {
   "cell_type": "markdown",
   "id": "5884a021",
   "metadata": {},
   "source": [
    "For the first half of Week 8, we'll be using the same dataset as we did in Week 7, the data from the Utah Republican Party's experiment to increase the number of women who serve as precinct chairs.\n",
    "\n",
    "But, there's a new variable in the dataset:"
   ]
  },
  {
   "cell_type": "code",
   "execution_count": null,
   "id": "e752295f",
   "metadata": {
    "scrolled": false
   },
   "outputs": [],
   "source": [
    "#import libraries\n",
    "library(estimatr)\n",
    "\n",
    "data <- read.csv(\"ps3_week8_electing_women.csv\")\n",
    "head(data)"
   ]
  },
  {
   "cell_type": "markdown",
   "id": "60fec234",
   "metadata": {},
   "source": [
    "Here is a quick reminder of what each column means:\n",
    "\n",
    "- `unique_id`: Precinct ID\n",
    "- `treat`: treatment variable\n",
    "    - `'control'`: control group\n",
    "    - `'supply'`: supply group; party chair instructed to recruit 2-3 women\n",
    "    - `'demand'`: demand group; party chair reads letter at precinct convention\n",
    "    - `'both'`: a fourth group getting both the supply and demand treatments; party chair instructed to read letter *and* to recruit 2-3 women\n",
    "- `prop_sd_fem2014`: **Outcome**: Proportion of 2014 elected state delegates from that precinct who were women\n",
    "- `sd_onefem2014`: **Outcome**: 1 if at least one woman was selected; 0 otherwise\n",
    "- `county` : County name in Utah\n",
    "- `pc_male`: 1 if precinct chair is male; 0 otherwise (precinct chair is person who runs precinct meeting, would read letter if assigned to do so, etc.)\n",
    "- `mormon`: 1 if precinct chair filled out a survey and told the party they were a Mormon; 0 otherwise (either because not Mormon or did not fill out survey) **<span style=\"color:red\">New variable!</span>**"
   ]
  },
  {
   "cell_type": "markdown",
   "id": "d4470217",
   "metadata": {},
   "source": [
    "Here's our new variable:"
   ]
  },
  {
   "cell_type": "code",
   "execution_count": null,
   "id": "bf4d7d31",
   "metadata": {},
   "outputs": [],
   "source": [
    "table(data$mormon)"
   ]
  },
  {
   "cell_type": "markdown",
   "id": "36c27a16",
   "metadata": {},
   "source": [
    "### Example of calculating heterogeneous treatment effects\n",
    "\n",
    "In class, your activity will be to look at effects among the subset where `mormon == 1` and among the subset where `mormon == 0` and then interpret it.\n",
    "\n",
    "Instead of giving you the right answer, I'll give you an example for another variable in this dataset, `county`.\n",
    "\n",
    "Let's compute the effect of the \"both\" treatment (relative to control) inside and outside of Salt Lake county."
   ]
  },
  {
   "cell_type": "code",
   "execution_count": null,
   "id": "1f15d1de",
   "metadata": {},
   "outputs": [],
   "source": [
    "table(data$county)"
   ]
  },
  {
   "cell_type": "markdown",
   "id": "b747ae2e",
   "metadata": {},
   "source": [
    "Here's the treatment effects for the entire sample:"
   ]
  },
  {
   "cell_type": "code",
   "execution_count": null,
   "id": "b8aedf8a",
   "metadata": {},
   "outputs": [],
   "source": [
    "difference_in_means(prop_sd_fem2014 ~ treat, data = data,\n",
    "                    condition1 = 'control', condition2 = 'both')"
   ]
  },
  {
   "cell_type": "markdown",
   "id": "5dda9ff4",
   "metadata": {},
   "source": [
    "#### Calculating the treatment effect within both subgroups\n",
    "\n",
    "First let's look at the effects inside Salt Lake county."
   ]
  },
  {
   "cell_type": "code",
   "execution_count": null,
   "id": "fe00c53f",
   "metadata": {},
   "outputs": [],
   "source": [
    "# First, make a subset\n",
    "data.salt.lake <- subset(data, county == 'Salt Lake')\n",
    "\n",
    "# Now, look at effect in that subset\n",
    "difference_in_means(prop_sd_fem2014 ~ treat, data = data.salt.lake,\n",
    "                    condition1 = 'control', condition2 = 'both')"
   ]
  },
  {
   "cell_type": "markdown",
   "id": "44a8b315",
   "metadata": {},
   "source": [
    "Now, let's look at the effect outside of Salt Lake county:"
   ]
  },
  {
   "cell_type": "code",
   "execution_count": null,
   "id": "27a244c9",
   "metadata": {},
   "outputs": [],
   "source": [
    "# First, make a subset\n",
    "data.not.salt.lake <- subset(data, county != 'Salt Lake')\n",
    "\n",
    "# Now, look at effect in that subset\n",
    "difference_in_means(prop_sd_fem2014 ~ treat, data = data.not.salt.lake,\n",
    "                    condition1 = 'control', condition2 = 'both')"
   ]
  },
  {
   "cell_type": "markdown",
   "id": "5275446b",
   "metadata": {},
   "source": [
    "It looks like the effects are bigger outside of Salt Lake County than inside Salt Lake County.\n",
    "\n",
    "#### Interpretation\n",
    "\n",
    "The final important point is interpretation. What does what we found mean?\n",
    "\n",
    "The interpretation is **not** causal: we are not saying that there is an effect of being in Salt Lake County on responses to this treatment. As soon as we say \"effect\", we are talking about a counterfactual, and that counterfactual makes no sense. For example, we **cannot** conclude that, if you took the people outside Salt Lake County, bused them into Salt Lake County, and then did the same experiment, they'd respond less to the \"both\" treatment.\n",
    "\n",
    "What we can conclude is that the effects look larger outside Salt Like County than inside Salt Lake County.\n",
    "\n",
    "This might still be really important and useful! For example, if the party has limited resources for sending out these letters, they might focus on sending them outside Salt Lake County since the effects seem bigger there.\n",
    "\n",
    "Why is this distinction so important? It's omitted variable bias: there's a *lot* of reasons that precinct chairs inside and outside Salt Lake County might be different, and so we can't be sure that differences between how their respond are due to where they live, not some other factor. Although we can be confident that the causal effects we estimated in the experiment accurately describe the effects within these two groups, we can't be sure that location is what causes the difference in these causal effects."
   ]
  },
  {
   "cell_type": "markdown",
   "id": "3f373ff7",
   "metadata": {},
   "source": [
    "### Caution: $p$-hacking\n",
    "\n",
    "There is a danger with heterogenous treatment effects, often called $p$-hacking.\n",
    "\n",
    "The idea of $p$-hacking is that, if you test lots and lots of hypotheses that are not true (i.e., where the null hypothesis is true), you're likely to get at least one statistically significant result just by chance. In fact, a $p$-value of 0.05 means there is a 1 in 20 chance that the result might have occurred my chance --- so it makes sense that if you test 20 different hypotheses, you'll likely get one statistically significant result even if none of the hypotheses you're testing are true!\n",
    "\n",
    "This xkcd cartoon I've showed previously makes this point:\n",
    "\n",
    "<img src=\"significant.png\">\n",
    "\n",
    "**$p$-hacking is when you test so many hypotheses that you become _very_ likely to get a statistically significant $p$-value for a null hypothesis that is true** --- i.e., to reach a $p$-value that incorrectly leads you to reject a true null hypothesis (e.g., thinking a treatment had an effect that actually has no effect).\n",
    "\n",
    "I bring this up during our discussion of heterogenous treatment effects because $p$-hacking is a _particularly_ big risk when examining heterogenous treatment effects, because in many datasets there are a ton of different subgroups you can slice and dice your dataset into. This can result in a situation where researchers think or convince others than, even if a treatment doesn't work overall, if you look at a specific group it does. Whenever you hear a claim like this, you should worry about $p$-hacking.\n",
    "\n",
    "The _New York Times_ did a nice story called \"<a href=\"https://www.nytimes.com/2017/11/28/magazine/a-failure-to-heal.html?smid=pl-share\" target=\"_blank\">A Failure to Heal</a>\" about how this happens in medicine, especially drug development. When a drug in testing fails to have an effect...\n",
    "\n",
    "> a second instinct takes over: Why not try to find the people for whom the drug did work? ...\n",
    ">\n",
    "> This kind of search-and-rescue mission is called “post hoc” analysis. It’s exhilarating — and dangerous. On one hand, it promises the possibility of resuscitating the medicine: Find the right group of responsive patients within the trial group — men above 60, say, or postmenopausal women — and you can, perhaps, pull the drug out of the rubble of the failed study.\n",
    ">\n",
    "> But it’s also a treacherous seduction. The reasoning is fatally circular — a just-so story. You go hunting for groups of patients that happened to respond — and then you turn around and claim that the drug “worked” on, um, those very patients that you found. (It’s quite different if the subgroups are defined before the trial. There’s still the statistical danger of overparsing the groups, but the reasoning is fundamentally less circular.) It would be as if Sacks, having found that the three long-term responders to L-dopa happened to be 80-year-old women from one nursing home, then published a study claiming that the drug “worked” on Brooklyn octogenarians.\n",
    ">\n",
    "> Perhaps the most stinging reminder of these pitfalls comes from a timeless paper published by the statistician Richard Peto. In 1988, Peto and colleagues had finished an enormous randomized trial on 17,000 patients that proved the benefit of aspirin after a heart attack. The Lancet agreed to publish the data, but with a catch: The editors wanted to determine which patients had benefited the most. Older or younger subjects? Men or women?\n",
    ">\n",
    "> Peto, a statistical rigorist, refused — such analyses would inevitably lead to artifactual conclusions — but the editors persisted, declining to advance the paper otherwise. Peto sent the paper back, but with a prank buried inside. The clinical subgroups were there, as requested — but he had inserted an additional one: “The patients were subdivided into 12 ... groups according to their medieval astrological birth signs.” When the tongue-in-cheek zodiac subgroups were analyzed, Geminis and Libras were found to have no benefit from aspirin, but the drug “produced halving of risk if you were born under Capricorn.” Peto now insisted that the “astrological subgroups” also be included in the paper — in part to serve as a moral lesson for posterity. I’ve often thought of Peto’s paper as required reading for every medical student.\n",
    "\n",
    "Beware of this instinct! It can be a good idea to check if a treatment has different effects for different groups, but $p < 0.05$ is a lot less meaningful when you've tested many hypotheses."
   ]
  },
  {
   "cell_type": "code",
   "execution_count": null,
   "id": "75a1dba9",
   "metadata": {},
   "outputs": [],
   "source": []
  }
 ],
 "metadata": {
  "kernelspec": {
   "display_name": "R",
   "language": "R",
   "name": "ir"
  },
  "language_info": {
   "codemirror_mode": "r",
   "file_extension": ".r",
   "mimetype": "text/x-r-source",
   "name": "R",
   "pygments_lexer": "r",
   "version": "4.1.2"
  },
  "latex_envs": {
   "LaTeX_envs_menu_present": true,
   "autoclose": false,
   "autocomplete": true,
   "bibliofile": "biblio.bib",
   "cite_by": "apalike",
   "current_citInitial": 1,
   "eqLabelWithNumbers": true,
   "eqNumInitial": 1,
   "hotkeys": {
    "equation": "Ctrl-E",
    "itemize": "Ctrl-I"
   },
   "labels_anchors": false,
   "latex_user_defs": false,
   "report_style_numbering": false,
   "user_envs_cfg": false
  }
 },
 "nbformat": 4,
 "nbformat_minor": 5
}
