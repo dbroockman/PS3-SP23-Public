{
 "cells": [
  {
   "cell_type": "markdown",
   "id": "a3e80dd5",
   "metadata": {},
   "source": [
    "# POLSCI 3\n",
    "\n",
    "## Week 11, Activity Notebook 1: Multivariate Regression with Observational Data"
   ]
  },
  {
   "cell_type": "markdown",
   "id": "0f95475d",
   "metadata": {},
   "source": [
    "First, let's read in the data."
   ]
  },
  {
   "cell_type": "code",
   "execution_count": null,
   "id": "d156d075",
   "metadata": {
    "scrolled": false
   },
   "outputs": [],
   "source": [
    "#import libraries\n",
    "library(testthat)\n",
    "\n",
    "data <- read.csv(\"ps3-house-election-spending.csv\")\n",
    "head(data)"
   ]
  },
  {
   "cell_type": "markdown",
   "id": "337bdd26",
   "metadata": {},
   "source": [
    "Here is a quick rundown of what each column means:\n",
    "\n",
    "- `state`: State (e.g., for CA-13, \"CA\")\n",
    "- `district`: District number (e.g., for CA-13, 13)\n",
    "- `name_dem_cand`: Democrat candidate name in the 2020 US House elections\n",
    "- `name_rep_cand`: Republican candidate name in the 2020 US House elections\n",
    "- `dem_us_house_percent_2020`: Democrat candidate's vote share in 2020 election (percent)\n",
    "- `dem_us_house_percent_2018`: Democrat candidate's vote share in 2018 election (percent)\n",
    "- `dem_won_ushouse_2018`: A Democrat won the US House election in 2018, and so is running for re-election in 2020 (0 = Democrat lost/Republican won; 1 = Democrat won/Republican lost)\n",
    "- `clinton_percent_2016`: Clinton vote share in 2016 in the district (percent)\n",
    "- `spending_dem_ushouse_2020`: Democratic US House candidate's spending in 2020, in millions of dollars \n",
    "- `spending_rep_ushouse_2020`: Republican US House candidate's spending in 2020, in millions of dollars "
   ]
  },
  {
   "cell_type": "markdown",
   "id": "40d57366",
   "metadata": {},
   "source": [
    "-----\n",
    "\n",
    "**Question 1a.** Subset the data to only districts where a *Republican* won in the 2018 election (based on `dem_won_ushouse_2018`). Store the new subset of the data in a new data frame called `republicans`.\n"
   ]
  },
  {
   "cell_type": "code",
   "execution_count": null,
   "id": "9cd75ed1",
   "metadata": {
    "scrolled": false,
    "tags": []
   },
   "outputs": [],
   "source": [
    "# Subset to Republicans\n",
    "republicans <- NULL # YOUR CODE HERE"
   ]
  },
  {
   "cell_type": "code",
   "execution_count": null,
   "id": "5d26ead0",
   "metadata": {
    "deletable": false,
    "editable": false
   },
   "outputs": [],
   "source": [
    ". = ottr::check(\"tests/q1a.R\")"
   ]
  },
  {
   "cell_type": "markdown",
   "id": "b0e6356b",
   "metadata": {},
   "source": [
    "-----\n",
    "\n",
    "**Question 1b.** You'd expect that when Republicans spend more, Democratic vote share would be *lower*. What do we find? Using bivariate regression that we learned last week, estimate the relationship between Democratic vote share in 2020 (`dem_us_house_percent_2020`, as the outcome) and Republican spending in 2020 (`spending_rep_ushouse_2020`, as a predictor variable). Do this with the `republicans` dataset.\n",
    "\n"
   ]
  },
  {
   "cell_type": "code",
   "execution_count": null,
   "id": "9f477a23",
   "metadata": {
    "tags": []
   },
   "outputs": [],
   "source": [
    "q1b <- NULL # YOUR CODE HERE\n",
    "q1b"
   ]
  },
  {
   "cell_type": "code",
   "execution_count": null,
   "id": "1fb38212",
   "metadata": {
    "deletable": false,
    "editable": false
   },
   "outputs": [],
   "source": [
    ". = ottr::check(\"tests/q1b.R\")"
   ]
  },
  {
   "cell_type": "markdown",
   "id": "98909ad2",
   "metadata": {},
   "source": [
    "------\n",
    "\n",
    "**Question 2.**  Run the same regression as you did above, but *also* control for both `clinton_percent_2016` and `dem_us_house_percent_2018`. Do this with the `republicans` dataset.\n"
   ]
  },
  {
   "cell_type": "code",
   "execution_count": null,
   "id": "f43b1962",
   "metadata": {
    "tags": []
   },
   "outputs": [],
   "source": [
    "q2 <- NULL # YOUR CODE HERE\n",
    "q2"
   ]
  },
  {
   "cell_type": "code",
   "execution_count": null,
   "id": "51981700",
   "metadata": {
    "deletable": false,
    "editable": false
   },
   "outputs": [],
   "source": [
    ". = ottr::check(\"tests/q2.R\")"
   ]
  },
  {
   "cell_type": "markdown",
   "id": "f1cb473d",
   "metadata": {},
   "source": [
    "------\n",
    "\n",
    "**Question 3.**  `TRUE` or `FALSE`: Now that we've controlled for these omitted variables in the multivariate regression, there is no more omitted variable bias when we are using this regression to estimate the causal effect of `spending_rep_ushouse_2020` on `dem_us_house_percent_2020`.\n",
    "\n",
    "Save your answer in `q3.answer`. Do not use quotes. For example, to answer `TRUE`, type `q3.answer <- TRUE`.\n"
   ]
  },
  {
   "cell_type": "code",
   "execution_count": null,
   "id": "2068dac9",
   "metadata": {
    "tags": []
   },
   "outputs": [],
   "source": [
    "q3.answer <- NULL # YOUR CODE HERE"
   ]
  },
  {
   "cell_type": "markdown",
   "id": "91528411",
   "metadata": {},
   "source": [
    "------\n",
    "\n",
    "**Question 4.** Which one of the following statements about the estimate (0.20177) of the `dem_us_house_percent_2018` variable is correct?\n",
    "\n",
    "- `'a'`: On average, a 1-percent increase in the Democratic house vote in 2018 causes the 2020 Democratic house vote to increase by approximately 0.2%\n",
    "- `'b'`: On average, a 1-percent increase in the Democratic house vote in 2018 causes the 2020 Democratic house vote to increase by approximately 0.2%, holding constant the other variables\n",
    "- `'c'`: On average, districts where the Democratic house vote in 2018 is 1-percent higher is associated with a 0.2% higher 2020 Democratic house vote \n",
    "- `'d'`: On average, districts where the Democratic house vote in 2018 is 1-percent higher is associated with a 0.2% higher 2020 Democratic house vote, holding constant the other variables\n",
    "\n",
    "Enter your answer below between quotes. For example, if you wanted to answer 'a', your answer would look like: `q4.answer <- 'a'`.\n"
   ]
  },
  {
   "cell_type": "code",
   "execution_count": null,
   "id": "6dc31f20",
   "metadata": {
    "tags": []
   },
   "outputs": [],
   "source": [
    "q4.answer <- '...'"
   ]
  },
  {
   "cell_type": "markdown",
   "id": "1b820bc1",
   "metadata": {},
   "source": [
    "<!-- BEGIN QUESTION -->\n",
    "\n",
    "-----\n",
    "\n",
    "**Question 5.** Explain your answer to Question 3. If you said `TRUE`, explain to someone who hasn't taken this class why the multivariate regression solves the problem. If you said `FALSE`, name a variable that could still be omitted and why this would pose a problem for the regression.\n"
   ]
  },
  {
   "cell_type": "markdown",
   "id": "a4e74d81",
   "metadata": {},
   "source": [
    "_Type your answer here, replacing this text._"
   ]
  },
  {
   "cell_type": "markdown",
   "id": "c16f8c60",
   "metadata": {},
   "source": [
    "<!-- END QUESTION -->\n",
    "\n",
    "<!-- BEGIN QUESTION -->\n",
    "\n",
    "------\n",
    "\n",
    "**Question 6.** Do your best to explain what is happening when the regression \"controls for\" `clinton_percent_2016` and `dem_us_house_percent_2018`. That is, explain why the answer you get for the relationship between `spending_rep_ushouse_2020` and `dem_us_house_percent_2020` is different once you also include `clinton_percent_2016` and `dem_us_house_percent_2018` in the regression.\n"
   ]
  },
  {
   "cell_type": "markdown",
   "id": "45b4726e",
   "metadata": {},
   "source": [
    "_Type your answer here, replacing this text._"
   ]
  },
  {
   "cell_type": "markdown",
   "id": "d3bde1f1",
   "metadata": {},
   "source": [
    "<!-- END QUESTION -->\n",
    "\n",
    "-----\n",
    "\n",
    "# Submitting Your Notebook (please read carefully!)\n",
    "\n",
    "To submit your notebook...\n",
    "\n",
    "### 1. Click `File` $\\rightarrow$ `Save and Checkpoint`.\n",
    "\n",
    "### 2. Wait 5 seconds.\n",
    "\n",
    "### 3. Select the cell below and hit run."
   ]
  },
  {
   "cell_type": "code",
   "execution_count": null,
   "id": "de662ce0",
   "metadata": {},
   "outputs": [],
   "source": [
    "ottr::export(\"Week11_Activity1group.ipynb\")"
   ]
  },
  {
   "cell_type": "markdown",
   "id": "03bc9023",
   "metadata": {},
   "source": [
    "After you hit \"Run\" on the cell above, wait for a moment (about 5 seconds), then click the download link. A .zip file should download to your computer.\n",
    "\n",
    "(If you make changes to your notebook, you'll need to hit save and then run the cell above again before you submit to get a new version of it.)\n",
    "\n",
    "### 4. Submit the .zip file you just downloaded <a href=\"https://www.gradescope.com/\" target=\"_blank\">on Gradescope here</a>.\n",
    "\n",
    "Notes:\n",
    "\n",
    "- **This does not seem to work on Chrome for iPad or iPhone.** If you're using an iPad or iPhone, you need to download the file using **Safari**.\n",
    "- If your web browser automatically unzips the .zip file (so you see a folder instead of a .zip file), you can just upload the .ipynb file that is inside the folder.\n",
    "- If this method is not working for you, try the \"old way\": hit `File`, then `Download as`, then `Notebook (.ipynb)` and submit that."
   ]
  },
  {
   "cell_type": "markdown",
   "id": "c613ce7d",
   "metadata": {
    "deletable": false,
    "editable": false
   },
   "source": [
    "## Submission\n",
    "\n",
    "Make sure you have run all cells in your notebook in order before running the cell below, so that all images/graphs appear in the output. The cell below will generate a zip file for you to submit. **Please save before exporting!**"
   ]
  },
  {
   "cell_type": "code",
   "execution_count": null,
   "id": "35f43e29",
   "metadata": {
    "deletable": false,
    "editable": false
   },
   "outputs": [],
   "source": [
    "# Save your notebook first, then run this cell to export your submission.\n",
    "ottr::export(\"Week11_Activity1group.ipynb\")"
   ]
  },
  {
   "cell_type": "markdown",
   "id": "50559559",
   "metadata": {},
   "source": [
    " "
   ]
  }
 ],
 "metadata": {
  "kernelspec": {
   "display_name": "R",
   "language": "R",
   "name": "ir"
  },
  "language_info": {
   "codemirror_mode": "r",
   "file_extension": ".r",
   "mimetype": "text/x-r-source",
   "name": "R",
   "pygments_lexer": "r",
   "version": "4.1.2"
  },
  "latex_envs": {
   "LaTeX_envs_menu_present": true,
   "autoclose": false,
   "autocomplete": true,
   "bibliofile": "biblio.bib",
   "cite_by": "apalike",
   "current_citInitial": 1,
   "eqLabelWithNumbers": true,
   "eqNumInitial": 1,
   "hotkeys": {
    "equation": "Ctrl-E",
    "itemize": "Ctrl-I"
   },
   "labels_anchors": false,
   "latex_user_defs": false,
   "report_style_numbering": false,
   "user_envs_cfg": false
  }
 },
 "nbformat": 4,
 "nbformat_minor": 5
}
